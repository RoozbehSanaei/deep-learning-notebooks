{
  "nbformat": 4,
  "nbformat_minor": 0,
  "metadata": {
    "colab": {
      "name": "InfoGAN.ipynb",
      "provenance": [],
      "authorship_tag": "ABX9TyOjpuDBwUT2mm48BgwXY9st",
      "include_colab_link": true
    },
    "kernelspec": {
      "name": "python3",
      "display_name": "Python 3"
    },
    "accelerator": "GPU"
  },
  "cells": [
    {
      "cell_type": "markdown",
      "metadata": {
        "id": "view-in-github",
        "colab_type": "text"
      },
      "source": [
        "<a href=\"https://colab.research.google.com/github/RoozbehSanaei/deep-learning-notebooks/blob/master/InfoGAN.ipynb\" target=\"_parent\"><img src=\"https://colab.research.google.com/assets/colab-badge.svg\" alt=\"Open In Colab\"/></a>"
      ]
    },
    {
      "cell_type": "markdown",
      "metadata": {
        "colab_type": "text",
        "id": "8DgoFvAHjOzA"
      },
      "source": [
        "It adds a “latent code” vector to traditional noise, and revises the loss function to include the cross-entropy between an estimated latent code by descriminator and the real one, it helps feature disentanglement\n",
        "\n",
        "\n"
      ]
    },
    {
      "cell_type": "markdown",
      "metadata": {
        "colab_type": "text",
        "id": "YLQzMuyhjNyx"
      },
      "source": [
        "![alt text](https://i.imgur.com/kVd7gk1.png)"
      ]
    },
    {
      "cell_type": "code",
      "metadata": {
        "id": "T6Nn0U-SlxEt",
        "colab_type": "code",
        "colab": {
          "base_uri": "https://localhost:8080/",
          "height": 79
        },
        "outputId": "dfd257c8-2cba-41d7-99e1-2454dd7be7fc"
      },
      "source": [
        "from __future__ import print_function, division\n",
        "\n",
        "from keras.datasets import mnist\n",
        "from keras.layers import Input, Dense, Reshape, Flatten, Dropout, multiply, concatenate\n",
        "from keras.layers import BatchNormalization, Activation, Embedding, ZeroPadding2D, Lambda\n",
        "from keras.layers.advanced_activations import LeakyReLU\n",
        "from keras.layers.convolutional import UpSampling2D, Conv2D\n",
        "from keras.models import Sequential, Model\n",
        "from keras.optimizers import Adam\n",
        "from keras.utils import to_categorical\n",
        "import keras.backend as K\n",
        "\n",
        "import matplotlib.pyplot as plt\n",
        "\n",
        "import numpy as np\n",
        "!mkdir images"
      ],
      "execution_count": 1,
      "outputs": [
        {
          "output_type": "stream",
          "text": [
            "Using TensorFlow backend.\n"
          ],
          "name": "stderr"
        },
        {
          "output_type": "display_data",
          "data": {
            "text/html": [
              "<p style=\"color: red;\">\n",
              "The default version of TensorFlow in Colab will soon switch to TensorFlow 2.x.<br>\n",
              "We recommend you <a href=\"https://www.tensorflow.org/guide/migrate\" target=\"_blank\">upgrade</a> now \n",
              "or ensure your notebook will continue to use TensorFlow 1.x via the <code>%tensorflow_version 1.x</code> magic:\n",
              "<a href=\"https://colab.research.google.com/notebooks/tensorflow_version.ipynb\" target=\"_blank\">more info</a>.</p>\n"
            ],
            "text/plain": [
              "<IPython.core.display.HTML object>"
            ]
          },
          "metadata": {
            "tags": []
          }
        }
      ]
    },
    {
      "cell_type": "code",
      "metadata": {
        "id": "Fu0fuzOOiszZ",
        "colab_type": "code",
        "colab": {}
      },
      "source": [
        "class INFOGAN():\n",
        "    def __init__(self):\n",
        "        self.img_rows = 28\n",
        "        self.img_cols = 28\n",
        "        self.channels = 1\n",
        "        self.num_classes = 10\n",
        "        self.img_shape = (self.img_rows, self.img_cols, self.channels)\n",
        "        self.latent_dim = 72\n",
        "\n",
        "\n",
        "        optimizer = Adam(0.0002, 0.5)\n",
        "        losses = ['binary_crossentropy', self.mutual_info_loss]\n",
        "\n",
        "        # Build and the discriminator and recognition network\n",
        "        self.discriminator, self.auxilliary = self.build_disk_and_q_net()\n",
        "\n",
        "        self.discriminator.compile(loss=['binary_crossentropy'],\n",
        "            optimizer=optimizer,\n",
        "            metrics=['accuracy'])\n",
        "\n",
        "        # Build and compile the recognition network Q\n",
        "        self.auxilliary.compile(loss=[self.mutual_info_loss],\n",
        "            optimizer=optimizer,\n",
        "            metrics=['accuracy'])\n",
        "\n",
        "        # Build the generator\n",
        "        self.generator = self.build_generator()\n",
        "\n",
        "        # The generator takes noise and the target label as input\n",
        "        # and generates the corresponding digit of that label\n",
        "        gen_input = Input(shape=(self.latent_dim,))\n",
        "        img = self.generator(gen_input)\n",
        "\n",
        "        # For the combined model we will only train the generator\n",
        "        self.discriminator.trainable = False\n",
        "\n",
        "        # The discriminator takes generated image as input and determines validity\n",
        "        valid = self.discriminator(img)\n",
        "        # The recognition network produces the label\n",
        "        target_label = self.auxilliary(img)\n",
        "\n",
        "        # The combined model  (stacked generator and discriminator)\n",
        "        self.combined = Model(gen_input, [valid, target_label])\n",
        "        self.combined.compile(loss=losses,\n",
        "            optimizer=optimizer)"
      ],
      "execution_count": 0,
      "outputs": []
    },
    {
      "cell_type": "code",
      "metadata": {
        "id": "WGXH2e03izBa",
        "colab_type": "code",
        "colab": {}
      },
      "source": [
        "def build_generator(self):\n",
        "\n",
        "    model = Sequential()\n",
        "\n",
        "    model.add(Dense(128 * 7 * 7, activation=\"relu\", input_dim=self.latent_dim))\n",
        "    model.add(Reshape((7, 7, 128)))\n",
        "    model.add(BatchNormalization(momentum=0.8))\n",
        "    model.add(UpSampling2D())\n",
        "    model.add(Conv2D(128, kernel_size=3, padding=\"same\"))\n",
        "    model.add(Activation(\"relu\"))\n",
        "    model.add(BatchNormalization(momentum=0.8))\n",
        "    model.add(UpSampling2D())\n",
        "    model.add(Conv2D(64, kernel_size=3, padding=\"same\"))\n",
        "    model.add(Activation(\"relu\"))\n",
        "    model.add(BatchNormalization(momentum=0.8))\n",
        "    model.add(Conv2D(self.channels, kernel_size=3, padding='same'))\n",
        "    model.add(Activation(\"tanh\"))\n",
        "\n",
        "    gen_input = Input(shape=(self.latent_dim,))\n",
        "    img = model(gen_input)\n",
        "\n",
        "    model.summary()\n",
        "\n",
        "    return Model(gen_input, img)"
      ],
      "execution_count": 0,
      "outputs": []
    },
    {
      "cell_type": "code",
      "metadata": {
        "id": "k8YqF3T7i6p5",
        "colab_type": "code",
        "colab": {}
      },
      "source": [
        "def build_disk_and_q_net(self):\n",
        "\n",
        "    img = Input(shape=self.img_shape)\n",
        "\n",
        "    # Shared layers between discriminator and recognition network\n",
        "    model = Sequential()\n",
        "    model.add(Conv2D(64, kernel_size=3, strides=2, input_shape=self.img_shape, padding=\"same\"))\n",
        "    model.add(LeakyReLU(alpha=0.2))\n",
        "    model.add(Dropout(0.25))\n",
        "    model.add(Conv2D(128, kernel_size=3, strides=2, padding=\"same\"))\n",
        "    model.add(ZeroPadding2D(padding=((0,1),(0,1))))\n",
        "    model.add(LeakyReLU(alpha=0.2))\n",
        "    model.add(Dropout(0.25))\n",
        "    model.add(BatchNormalization(momentum=0.8))\n",
        "    model.add(Conv2D(256, kernel_size=3, strides=2, padding=\"same\"))\n",
        "    model.add(LeakyReLU(alpha=0.2))\n",
        "    model.add(Dropout(0.25))\n",
        "    model.add(BatchNormalization(momentum=0.8))\n",
        "    model.add(Conv2D(512, kernel_size=3, strides=2, padding=\"same\"))\n",
        "    model.add(LeakyReLU(alpha=0.2))\n",
        "    model.add(Dropout(0.25))\n",
        "    model.add(BatchNormalization(momentum=0.8))\n",
        "    model.add(Flatten())\n",
        "\n",
        "    img_embedding = model(img)\n",
        "\n",
        "    # Discriminator\n",
        "    validity = Dense(1, activation='sigmoid')(img_embedding)\n",
        "\n",
        "    # Recognition\n",
        "    q_net = Dense(128, activation='relu')(img_embedding)\n",
        "    label = Dense(self.num_classes, activation='softmax')(q_net)\n",
        "\n",
        "    # Return discriminator and recognition network\n",
        "    return Model(img, validity), Model(img, label)"
      ],
      "execution_count": 0,
      "outputs": []
    },
    {
      "cell_type": "code",
      "metadata": {
        "id": "bxmyRuczi-lJ",
        "colab_type": "code",
        "colab": {}
      },
      "source": [
        "def mutual_info_loss(self, c, c_given_x):\n",
        "    \"\"\"The mutual information metric we aim to minimize\"\"\"\n",
        "    eps = 1e-8\n",
        "    conditional_entropy = K.mean(- K.sum(K.log(c_given_x + eps) * c, axis=1))\n",
        "    entropy = K.mean(- K.sum(K.log(c + eps) * c, axis=1))\n",
        "\n",
        "    return conditional_entropy + entropy\n",
        "\n",
        "def sample_generator_input(self, batch_size):\n",
        "    # Generator inputs\n",
        "    sampled_noise = np.random.normal(0, 1, (batch_size, 62))\n",
        "    sampled_labels = np.random.randint(0, self.num_classes, batch_size).reshape(-1, 1)\n",
        "    sampled_labels = to_categorical(sampled_labels, num_classes=self.num_classes)\n",
        "\n",
        "    return sampled_noise, sampled_labels"
      ],
      "execution_count": 0,
      "outputs": []
    },
    {
      "cell_type": "code",
      "metadata": {
        "id": "etF5KdoXjD2p",
        "colab_type": "code",
        "colab": {}
      },
      "source": [
        "def train(self, epochs, batch_size=128, sample_interval=50):\n",
        "\n",
        "    # Load the dataset\n",
        "    (X_train, y_train), (_, _) = mnist.load_data()\n",
        "\n",
        "    # Rescale -1 to 1\n",
        "    X_train = (X_train.astype(np.float32) - 127.5) / 127.5\n",
        "    X_train = np.expand_dims(X_train, axis=3)\n",
        "    y_train = y_train.reshape(-1, 1)\n",
        "\n",
        "    # Adversarial ground truths\n",
        "    valid = np.ones((batch_size, 1))\n",
        "    fake = np.zeros((batch_size, 1))\n",
        "\n",
        "    for epoch in range(epochs):\n",
        "\n",
        "        # ---------------------\n",
        "        #  Train Discriminator\n",
        "        # ---------------------\n",
        "\n",
        "        # Select a random half batch of images\n",
        "        idx = np.random.randint(0, X_train.shape[0], batch_size)\n",
        "        imgs = X_train[idx]\n",
        "\n",
        "        # Sample noise and categorical labels\n",
        "        sampled_noise, sampled_labels = self.sample_generator_input(batch_size)\n",
        "        gen_input = np.concatenate((sampled_noise, sampled_labels), axis=1)\n",
        "\n",
        "        # Generate a half batch of new images\n",
        "        gen_imgs = self.generator.predict(gen_input)\n",
        "\n",
        "        # Train on real and generated data\n",
        "        d_loss_real = self.discriminator.train_on_batch(imgs, valid)\n",
        "        d_loss_fake = self.discriminator.train_on_batch(gen_imgs, fake)\n",
        "\n",
        "        # Avg. loss\n",
        "        d_loss = 0.5 * np.add(d_loss_real, d_loss_fake)\n",
        "\n",
        "        # ---------------------\n",
        "        #  Train Generator and Q-network\n",
        "        # ---------------------\n",
        "\n",
        "        g_loss = self.combined.train_on_batch(gen_input, [valid, sampled_labels])\n",
        "\n",
        "        # Plot the progress\n",
        "        print (\"%d [D loss: %.2f, acc.: %.2f%%] [Q loss: %.2f] [G loss: %.2f]\" % (epoch, d_loss[0], 100*d_loss[1], g_loss[1], g_loss[2]))\n",
        "\n",
        "        # If at save interval => save generated image samples\n",
        "        if epoch % sample_interval == 0:\n",
        "            self.sample_images(epoch)"
      ],
      "execution_count": 0,
      "outputs": []
    },
    {
      "cell_type": "code",
      "metadata": {
        "id": "TJIvvSSQjGXa",
        "colab_type": "code",
        "colab": {}
      },
      "source": [
        "def save_model(self):\n",
        "\n",
        "    def save(model, model_name):\n",
        "        model_path = \"saved_model/%s.json\" % model_name\n",
        "        weights_path = \"saved_model/%s_weights.hdf5\" % model_name\n",
        "        options = {\"file_arch\": model_path,\n",
        "                    \"file_weight\": weights_path}\n",
        "        json_string = model.to_json()\n",
        "        open(options['file_arch'], 'w').write(json_string)\n",
        "        model.save_weights(options['file_weight'])\n",
        "\n",
        "    save(self.generator, \"generator\")\n",
        "    save(self.discriminator, \"discriminator\")\n"
      ],
      "execution_count": 0,
      "outputs": []
    },
    {
      "cell_type": "code",
      "metadata": {
        "id": "c6h4BZu2jIks",
        "colab_type": "code",
        "colab": {}
      },
      "source": [
        "\n",
        "def sample_images(self, epoch):\n",
        "    r, c = 10, 10\n",
        "\n",
        "    fig, axs = plt.subplots(r, c)\n",
        "    for i in range(c):\n",
        "        sampled_noise, _ = self.sample_generator_input(c)\n",
        "        label = to_categorical(np.full(fill_value=i, shape=(r,1)), num_classes=self.num_classes)\n",
        "        gen_input = np.concatenate((sampled_noise, label), axis=1)\n",
        "        gen_imgs = self.generator.predict(gen_input)\n",
        "        gen_imgs = 0.5 * gen_imgs + 0.5\n",
        "        for j in range(r):\n",
        "            axs[j,i].imshow(gen_imgs[j,:,:,0], cmap='gray')\n",
        "            axs[j,i].axis('off')\n",
        "    fig.savefig(\"images/%d.png\" % epoch)\n",
        "    plt.close()\n"
      ],
      "execution_count": 0,
      "outputs": []
    },
    {
      "cell_type": "code",
      "metadata": {
        "id": "KKzPYm1mjwZf",
        "colab_type": "code",
        "colab": {}
      },
      "source": [
        "INFOGAN.build_generator = build_generator\n",
        "INFOGAN.build_disk_and_q_net = build_disk_and_q_net\n",
        "INFOGAN.mutual_info_loss = mutual_info_loss\n",
        "INFOGAN.sample_generator_input = sample_generator_input\n",
        "INFOGAN.save_model = save_model\n",
        "INFOGAN.sample_images = sample_images\n",
        "INFOGAN.train = train\n"
      ],
      "execution_count": 0,
      "outputs": []
    },
    {
      "cell_type": "code",
      "metadata": {
        "id": "4OYz4IDBi0eK",
        "colab_type": "code",
        "colab": {}
      },
      "source": [
        "infogan = INFOGAN()\n",
        "infogan.train(epochs=50000, batch_size=128, sample_interval=50)"
      ],
      "execution_count": 0,
      "outputs": []
    },
    {
      "cell_type": "code",
      "metadata": {
        "id": "7W6Lsr6RoYeN",
        "colab_type": "code",
        "colab": {
          "base_uri": "https://localhost:8080/",
          "height": 689
        },
        "outputId": "fbe09e4a-054b-401b-b0dc-e9b0ba957da6"
      },
      "source": [
        "!ls images/*\n",
        "img = plt.imread(\"images/4750.png\")\n",
        "plt.imshow(img)"
      ],
      "execution_count": 12,
      "outputs": [
        {
          "output_type": "stream",
          "text": [
            "images/0.png\t images/200.png   images/3100.png  images/4200.png\n",
            "images/1000.png  images/2050.png  images/3150.png  images/4250.png\n",
            "images/100.png\t images/2100.png  images/3200.png  images/4300.png\n",
            "images/1050.png  images/2150.png  images/3250.png  images/4350.png\n",
            "images/1100.png  images/2200.png  images/3300.png  images/4400.png\n",
            "images/1150.png  images/2250.png  images/3350.png  images/4450.png\n",
            "images/1200.png  images/2300.png  images/3400.png  images/4500.png\n",
            "images/1250.png  images/2350.png  images/3450.png  images/450.png\n",
            "images/1300.png  images/2400.png  images/3500.png  images/4550.png\n",
            "images/1350.png  images/2450.png  images/350.png   images/4600.png\n",
            "images/1400.png  images/2500.png  images/3550.png  images/4650.png\n",
            "images/1450.png  images/250.png   images/3600.png  images/4700.png\n",
            "images/1500.png  images/2550.png  images/3650.png  images/4750.png\n",
            "images/150.png\t images/2600.png  images/3700.png  images/500.png\n",
            "images/1550.png  images/2650.png  images/3750.png  images/50.png\n",
            "images/1600.png  images/2700.png  images/3800.png  images/550.png\n",
            "images/1650.png  images/2750.png  images/3850.png  images/600.png\n",
            "images/1700.png  images/2800.png  images/3900.png  images/650.png\n",
            "images/1750.png  images/2850.png  images/3950.png  images/700.png\n",
            "images/1800.png  images/2900.png  images/4000.png  images/750.png\n",
            "images/1850.png  images/2950.png  images/400.png   images/800.png\n",
            "images/1900.png  images/3000.png  images/4050.png  images/850.png\n",
            "images/1950.png  images/300.png   images/4100.png  images/900.png\n",
            "images/2000.png  images/3050.png  images/4150.png  images/950.png\n"
          ],
          "name": "stdout"
        },
        {
          "output_type": "execute_result",
          "data": {
            "text/plain": [
              "<matplotlib.image.AxesImage at 0x7f5bf98d99e8>"
            ]
          },
          "metadata": {
            "tags": []
          },
          "execution_count": 12
        },
        {
          "output_type": "display_data",
          "data": {
            "image/png": "[encoded data removed]",
            "text/plain": [
              "<Figure size 432x288 with 1 Axes>"
            ]
          },
          "metadata": {
            "tags": []
          }
        }
      ]
    }
  ]
}