{
  "nbformat": 4,
  "nbformat_minor": 0,
  "metadata": {
    "colab": {
      "name": "bigan.ipynb",
      "provenance": [],
      "authorship_tag": "ABX9TyPgAlz0ysukxnf8FOJ5dQBD",
      "include_colab_link": true
    },
    "kernelspec": {
      "name": "python3",
      "display_name": "Python 3"
    }
  },
  "cells": [
    {
      "cell_type": "markdown",
      "metadata": {
        "id": "view-in-github",
        "colab_type": "text"
      },
      "source": [
        "<a href=\"https://colab.research.google.com/github/RoozbehSanaei/deep-learning-notebooks/blob/master/bigan.ipynb\" target=\"_parent\"><img src=\"https://colab.research.google.com/assets/colab-badge.svg\" alt=\"Open In Colab\"/></a>"
      ]
    },
    {
      "cell_type": "code",
      "metadata": {
        "id": "hmSwXIcBT1Ob",
        "colab_type": "code",
        "colab": {}
      },
      "source": [
        "from __future__ import print_function, division\n",
        "\n",
        "from keras.datasets import mnist\n",
        "from keras.layers import Input, Dense, Reshape, Flatten, Dropout, multiply, GaussianNoise\n",
        "from keras.layers import BatchNormalization, Activation, Embedding, ZeroPadding2D\n",
        "from keras.layers import MaxPooling2D, concatenate\n",
        "from keras.layers.advanced_activations import LeakyReLU\n",
        "from keras.layers.convolutional import UpSampling2D, Conv2D\n",
        "from keras.models import Sequential, Model\n",
        "from keras.optimizers import Adam\n",
        "from keras import losses\n",
        "from keras.utils import to_categorical\n",
        "import keras.backend as K\n",
        "\n",
        "import matplotlib.pyplot as plt\n",
        "\n",
        "import numpy as np"
      ],
      "execution_count": 0,
      "outputs": []
    },
    {
      "cell_type": "code",
      "metadata": {
        "id": "Ys58LdUKUlmo",
        "colab_type": "code",
        "colab": {}
      },
      "source": [
        "\n",
        "class BIGAN():\n",
        "    def __init__(self):\n",
        "        self.img_rows = 28\n",
        "        self.img_cols = 28\n",
        "        self.channels = 1\n",
        "        self.img_shape = (self.img_rows, self.img_cols, self.channels)\n",
        "        self.latent_dim = 100\n",
        "\n",
        "        optimizer = Adam(0.0002, 0.5)\n",
        "\n",
        "        # Build and compile the discriminator\n",
        "        self.discriminator = self.build_discriminator()\n",
        "        self.discriminator.compile(loss=['binary_crossentropy'],\n",
        "            optimizer=optimizer,\n",
        "            metrics=['accuracy'])\n",
        "\n",
        "        # Build the generator\n",
        "        self.generator = self.build_generator()\n",
        "\n",
        "        # Build the encoder\n",
        "        self.encoder = self.build_encoder()\n",
        "\n",
        "        # The part of the bigan that trains the discriminator and encoder\n",
        "        self.discriminator.trainable = False\n",
        "\n",
        "        # Generate image from sampled noise\n",
        "        z = Input(shape=(self.latent_dim, ))\n",
        "        img_ = self.generator(z)\n",
        "\n",
        "        # Encode image\n",
        "        img = Input(shape=self.img_shape)\n",
        "        z_ = self.encoder(img)\n",
        "\n",
        "        # Latent -> img is fake, and img -> latent is valid\n",
        "        fake = self.discriminator([z, img_])\n",
        "        valid = self.discriminator([z_, img])\n",
        "\n",
        "        # Set up and compile the combined model\n",
        "        # Trains generator to fool the discriminator\n",
        "        self.bigan_generator = Model([z, img], [fake, valid])\n",
        "        self.bigan_generator.compile(loss=['binary_crossentropy', 'binary_crossentropy'],\n",
        "            optimizer=optimizer)"
      ],
      "execution_count": 0,
      "outputs": []
    },
    {
      "cell_type": "code",
      "metadata": {
        "id": "bcwO2DirUoS5",
        "colab_type": "code",
        "colab": {}
      },
      "source": [
        "\n",
        "def build_encoder(self):\n",
        "    model = Sequential()\n",
        "\n",
        "    model.add(Flatten(input_shape=self.img_shape))\n",
        "    model.add(Dense(512))\n",
        "    model.add(LeakyReLU(alpha=0.2))\n",
        "    model.add(BatchNormalization(momentum=0.8))\n",
        "    model.add(Dense(512))\n",
        "    model.add(LeakyReLU(alpha=0.2))\n",
        "    model.add(BatchNormalization(momentum=0.8))\n",
        "    model.add(Dense(self.latent_dim))\n",
        "\n",
        "    model.summary()\n",
        "\n",
        "    img = Input(shape=self.img_shape)\n",
        "    z = model(img)\n",
        "\n",
        "    return Model(img, z)"
      ],
      "execution_count": 0,
      "outputs": []
    },
    {
      "cell_type": "code",
      "metadata": {
        "id": "mv8ni5ASUyQo",
        "colab_type": "code",
        "colab": {}
      },
      "source": [
        "\n",
        "def build_generator(self):\n",
        "    model = Sequential()\n",
        "\n",
        "    model.add(Dense(512, input_dim=self.latent_dim))\n",
        "    model.add(LeakyReLU(alpha=0.2))\n",
        "    model.add(BatchNormalization(momentum=0.8))\n",
        "    model.add(Dense(512))\n",
        "    model.add(LeakyReLU(alpha=0.2))\n",
        "    model.add(BatchNormalization(momentum=0.8))\n",
        "    model.add(Dense(np.prod(self.img_shape), activation='tanh'))\n",
        "    model.add(Reshape(self.img_shape))\n",
        "\n",
        "    model.summary()\n",
        "\n",
        "    z = Input(shape=(self.latent_dim,))\n",
        "    gen_img = model(z)\n",
        "\n",
        "    return Model(z, gen_img)"
      ],
      "execution_count": 0,
      "outputs": []
    },
    {
      "cell_type": "code",
      "metadata": {
        "id": "5zAf4USHU0kL",
        "colab_type": "code",
        "colab": {}
      },
      "source": [
        "\n",
        "def build_discriminator(self):\n",
        "\n",
        "    z = Input(shape=(self.latent_dim, ))\n",
        "    img = Input(shape=self.img_shape)\n",
        "    d_in = concatenate([z, Flatten()(img)])\n",
        "\n",
        "    model = Dense(1024)(d_in)\n",
        "    model = LeakyReLU(alpha=0.2)(model)\n",
        "    model = Dropout(0.5)(model)\n",
        "    model = Dense(1024)(model)\n",
        "    model = LeakyReLU(alpha=0.2)(model)\n",
        "    model = Dropout(0.5)(model)\n",
        "    model = Dense(1024)(model)\n",
        "    model = LeakyReLU(alpha=0.2)(model)\n",
        "    model = Dropout(0.5)(model)\n",
        "    validity = Dense(1, activation=\"sigmoid\")(model)\n",
        "\n",
        "    return Model([z, img], validity)"
      ],
      "execution_count": 0,
      "outputs": []
    },
    {
      "cell_type": "code",
      "metadata": {
        "id": "4QUFnUiZU2l9",
        "colab_type": "code",
        "colab": {}
      },
      "source": [
        "\n",
        "def train(self, epochs, batch_size=128, sample_interval=50):\n",
        "\n",
        "    # Load the dataset\n",
        "    (X_train, _), (_, _) = mnist.load_data()\n",
        "\n",
        "    # Rescale -1 to 1\n",
        "    X_train = (X_train.astype(np.float32) - 127.5) / 127.5\n",
        "    X_train = np.expand_dims(X_train, axis=3)\n",
        "\n",
        "    # Adversarial ground truths\n",
        "    valid = np.ones((batch_size, 1))\n",
        "    fake = np.zeros((batch_size, 1))\n",
        "\n",
        "    for epoch in range(epochs):\n",
        "\n",
        "\n",
        "        # ---------------------\n",
        "        #  Train Discriminator\n",
        "        # ---------------------\n",
        "\n",
        "        # Sample noise and generate img\n",
        "        z = np.random.normal(size=(batch_size, self.latent_dim))\n",
        "        imgs_ = self.generator.predict(z)\n",
        "\n",
        "        # Select a random batch of images and encode\n",
        "        idx = np.random.randint(0, X_train.shape[0], batch_size)\n",
        "        imgs = X_train[idx]\n",
        "        z_ = self.encoder.predict(imgs)\n",
        "\n",
        "        # Train the discriminator (img -> z is valid, z -> img is fake)\n",
        "        d_loss_real = self.discriminator.train_on_batch([z_, imgs], valid)\n",
        "        d_loss_fake = self.discriminator.train_on_batch([z, imgs_], fake)\n",
        "        d_loss = 0.5 * np.add(d_loss_real, d_loss_fake)\n",
        "\n",
        "        # ---------------------\n",
        "        #  Train Generator\n",
        "        # ---------------------\n",
        "\n",
        "        # Train the generator (z -> img is valid and img -> z is is invalid)\n",
        "        g_loss = self.bigan_generator.train_on_batch([z, imgs], [valid, fake])\n",
        "\n",
        "        # Plot the progress\n",
        "        print (\"%d [D loss: %f, acc: %.2f%%] [G loss: %f]\" % (epoch, d_loss[0], 100*d_loss[1], g_loss[0]))\n",
        "\n",
        "        # If at save interval => save generated image samples\n",
        "        if epoch % sample_interval == 0:\n",
        "            self.sample_interval(epoch)\n"
      ],
      "execution_count": 0,
      "outputs": []
    },
    {
      "cell_type": "code",
      "metadata": {
        "id": "idUeo0O6U3_t",
        "colab_type": "code",
        "colab": {}
      },
      "source": [
        "\n",
        "def sample_interval(self, epoch):\n",
        "    r, c = 5, 5\n",
        "    z = np.random.normal(size=(25, self.latent_dim))\n",
        "    gen_imgs = self.generator.predict(z)\n",
        "\n",
        "    gen_imgs = 0.5 * gen_imgs + 0.5\n",
        "\n",
        "    fig, axs = plt.subplots(r, c)\n",
        "    cnt = 0\n",
        "    for i in range(r):\n",
        "        for j in range(c):\n",
        "            axs[i,j].imshow(gen_imgs[cnt, :,:,0], cmap='gray')\n",
        "            axs[i,j].axis('off')\n",
        "            cnt += 1\n",
        "    fig.savefig(\"images/mnist_%d.png\" % epoch)\n",
        "    plt.close()"
      ],
      "execution_count": 0,
      "outputs": []
    },
    {
      "cell_type": "code",
      "metadata": {
        "id": "Oa324z7tUuxw",
        "colab_type": "code",
        "colab": {}
      },
      "source": [
        "bigan = BIGAN()\n",
        "bigan.train(epochs=40000, batch_size=32, sample_interval=400)"
      ],
      "execution_count": 0,
      "outputs": []
    }
  ]
}