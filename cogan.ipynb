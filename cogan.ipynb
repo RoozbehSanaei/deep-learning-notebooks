{
  "nbformat": 4,
  "nbformat_minor": 0,
  "metadata": {
    "colab": {
      "name": "cogan.ipynb",
      "provenance": [],
      "authorship_tag": "ABX9TyOVpgo7ofhe2IHlbtfSAlEP",
      "include_colab_link": true
    },
    "kernelspec": {
      "name": "python3",
      "display_name": "Python 3"
    }
  },
  "cells": [
    {
      "cell_type": "markdown",
      "metadata": {
        "id": "view-in-github",
        "colab_type": "text"
      },
      "source": [
        "<a href=\"https://colab.research.google.com/github/RoozbehSanaei/deep-learning-notebooks/blob/master/cogan.ipynb\" target=\"_parent\"><img src=\"https://colab.research.google.com/assets/colab-badge.svg\" alt=\"Open In Colab\"/></a>"
      ]
    },
    {
      "cell_type": "markdown",
      "metadata": {
        "id": "H2MfyDK_pc4s",
        "colab_type": "text"
      },
      "source": [
        "[**Coupled Generative Adversarial Networks**](https://arxiv.org/abs/1606.07536)"
      ]
    },
    {
      "cell_type": "code",
      "metadata": {
        "id": "0vlNoVRUo5Vz",
        "colab_type": "code",
        "colab": {}
      },
      "source": [
        "from __future__ import print_function, division\n",
        "import scipy\n",
        "\n",
        "from keras.datasets import mnist\n",
        "from keras.layers import Input, Dense, Reshape, Flatten, Dropout\n",
        "from keras.layers import BatchNormalization, Activation, ZeroPadding2D\n",
        "from keras.layers.advanced_activations import LeakyReLU\n",
        "from keras.layers.convolutional import UpSampling2D, Conv2D\n",
        "from keras.models import Sequential, Model\n",
        "from keras.optimizers import Adam\n",
        "\n",
        "import matplotlib.pyplot as plt\n",
        "\n",
        "import sys\n",
        "\n",
        "import numpy as np\n"
      ],
      "execution_count": 0,
      "outputs": []
    },
    {
      "cell_type": "code",
      "metadata": {
        "id": "h53ET6Wio7We",
        "colab_type": "code",
        "colab": {}
      },
      "source": [
        "class COGAN():\n",
        "\"\"\"Reference: https://wiseodd.github.io/techblog/2017/02/18/coupled_gan/\"\"\"\n",
        "def __init__(self):\n",
        "    self.img_rows = 28\n",
        "    self.img_cols = 28\n",
        "    self.channels = 1\n",
        "    self.img_shape = (self.img_rows, self.img_cols, self.channels)\n",
        "    self.latent_dim = 100\n",
        "\n",
        "    optimizer = Adam(0.0002, 0.5)\n",
        "\n",
        "    # Build and compile the discriminator\n",
        "    self.d1, self.d2 = self.build_discriminators()\n",
        "    self.d1.compile(loss='binary_crossentropy',\n",
        "        optimizer=optimizer,\n",
        "        metrics=['accuracy'])\n",
        "    self.d2.compile(loss='binary_crossentropy',\n",
        "        optimizer=optimizer,\n",
        "        metrics=['accuracy'])\n",
        "\n",
        "    # Build the generator\n",
        "    self.g1, self.g2 = self.build_generators()\n",
        "\n",
        "    # The generator takes noise as input and generated imgs\n",
        "    z = Input(shape=(self.latent_dim,))\n",
        "    img1 = self.g1(z)\n",
        "    img2 = self.g2(z)\n",
        "\n",
        "    # For the combined model we will only train the generators\n",
        "    self.d1.trainable = False\n",
        "    self.d2.trainable = False\n",
        "\n",
        "    # The valid takes generated images as input and determines validity\n",
        "    valid1 = self.d1(img1)\n",
        "    valid2 = self.d2(img2)\n",
        "\n",
        "    # The combined model  (stacked generators and discriminators)\n",
        "    # Trains generators to fool discriminators\n",
        "    self.combined = Model(z, [valid1, valid2])\n",
        "    self.combined.compile(loss=['binary_crossentropy', 'binary_crossentropy'],\n",
        "                                optimizer=optimizer)\n"
      ],
      "execution_count": 0,
      "outputs": []
    },
    {
      "cell_type": "code",
      "metadata": {
        "id": "R7yRPvMVpDoF",
        "colab_type": "code",
        "colab": {}
      },
      "source": [
        "def build_generators(self):\n",
        "\n",
        "    # Shared weights between generators\n",
        "    model = Sequential()\n",
        "    model.add(Dense(256, input_dim=self.latent_dim))\n",
        "    model.add(LeakyReLU(alpha=0.2))\n",
        "    model.add(BatchNormalization(momentum=0.8))\n",
        "    model.add(Dense(512))\n",
        "    model.add(LeakyReLU(alpha=0.2))\n",
        "    model.add(BatchNormalization(momentum=0.8))\n",
        "\n",
        "    noise = Input(shape=(self.latent_dim,))\n",
        "    feature_repr = model(noise)\n",
        "\n",
        "    # Generator 1\n",
        "    g1 = Dense(1024)(feature_repr)\n",
        "    g1 = LeakyReLU(alpha=0.2)(g1)\n",
        "    g1 = BatchNormalization(momentum=0.8)(g1)\n",
        "    g1 = Dense(np.prod(self.img_shape), activation='tanh')(g1)\n",
        "    img1 = Reshape(self.img_shape)(g1)\n",
        "\n",
        "    # Generator 2\n",
        "    g2 = Dense(1024)(feature_repr)\n",
        "    g2 = LeakyReLU(alpha=0.2)(g2)\n",
        "    g2 = BatchNormalization(momentum=0.8)(g2)\n",
        "    g2 = Dense(np.prod(self.img_shape), activation='tanh')(g2)\n",
        "    img2 = Reshape(self.img_shape)(g2)\n",
        "\n",
        "    model.summary()\n",
        "\n",
        "    return Model(noise, img1), Model(noise, img2)"
      ],
      "execution_count": 0,
      "outputs": []
    },
    {
      "cell_type": "code",
      "metadata": {
        "id": "AgOT4Q7lpGwl",
        "colab_type": "code",
        "colab": {}
      },
      "source": [
        "def build_discriminators(self):\n",
        "\n",
        "    img1 = Input(shape=self.img_shape)\n",
        "    img2 = Input(shape=self.img_shape)\n",
        "\n",
        "    # Shared discriminator layers\n",
        "    model = Sequential()\n",
        "    model.add(Flatten(input_shape=self.img_shape))\n",
        "    model.add(Dense(512))\n",
        "    model.add(LeakyReLU(alpha=0.2))\n",
        "    model.add(Dense(256))\n",
        "    model.add(LeakyReLU(alpha=0.2))\n",
        "\n",
        "    img1_embedding = model(img1)\n",
        "    img2_embedding = model(img2)\n",
        "\n",
        "    # Discriminator 1\n",
        "    validity1 = Dense(1, activation='sigmoid')(img1_embedding)\n",
        "    # Discriminator 2\n",
        "    validity2 = Dense(1, activation='sigmoid')(img2_embedding)\n",
        "\n",
        "    return Model(img1, validity1), Model(img2, validity2)"
      ],
      "execution_count": 0,
      "outputs": []
    },
    {
      "cell_type": "code",
      "metadata": {
        "id": "37yqKGtcpJnU",
        "colab_type": "code",
        "colab": {}
      },
      "source": [
        "def train(self, epochs, batch_size=128, sample_interval=50):\n",
        "\n",
        "    # Load the dataset\n",
        "    (X_train, _), (_, _) = mnist.load_data()\n",
        "\n",
        "    # Rescale -1 to 1\n",
        "    X_train = (X_train.astype(np.float32) - 127.5) / 127.5\n",
        "    X_train = np.expand_dims(X_train, axis=3)\n",
        "\n",
        "    # Images in domain A and B (rotated)\n",
        "    X1 = X_train[:int(X_train.shape[0]/2)]\n",
        "    X2 = X_train[int(X_train.shape[0]/2):]\n",
        "    X2 = scipy.ndimage.interpolation.rotate(X2, 90, axes=(1, 2))\n",
        "\n",
        "    # Adversarial ground truths\n",
        "    valid = np.ones((batch_size, 1))\n",
        "    fake = np.zeros((batch_size, 1))\n",
        "\n",
        "    for epoch in range(epochs):\n",
        "\n",
        "        # ----------------------\n",
        "        #  Train Discriminators\n",
        "        # ----------------------\n",
        "\n",
        "        # Select a random batch of images\n",
        "        idx = np.random.randint(0, X1.shape[0], batch_size)\n",
        "        imgs1 = X1[idx]\n",
        "        imgs2 = X2[idx]\n",
        "\n",
        "        # Sample noise as generator input\n",
        "        noise = np.random.normal(0, 1, (batch_size, 100))\n",
        "\n",
        "        # Generate a batch of new images\n",
        "        gen_imgs1 = self.g1.predict(noise)\n",
        "        gen_imgs2 = self.g2.predict(noise)\n",
        "\n",
        "        # Train the discriminators\n",
        "        d1_loss_real = self.d1.train_on_batch(imgs1, valid)\n",
        "        d2_loss_real = self.d2.train_on_batch(imgs2, valid)\n",
        "        d1_loss_fake = self.d1.train_on_batch(gen_imgs1, fake)\n",
        "        d2_loss_fake = self.d2.train_on_batch(gen_imgs2, fake)\n",
        "        d1_loss = 0.5 * np.add(d1_loss_real, d1_loss_fake)\n",
        "        d2_loss = 0.5 * np.add(d2_loss_real, d2_loss_fake)\n",
        "\n",
        "\n",
        "        # ------------------\n",
        "        #  Train Generators\n",
        "        # ------------------\n",
        "\n",
        "        g_loss = self.combined.train_on_batch(noise, [valid, valid])\n",
        "\n",
        "        # Plot the progress\n",
        "        print (\"%d [D1 loss: %f, acc.: %.2f%%] [D2 loss: %f, acc.: %.2f%%] [G loss: %f]\" \\\n",
        "            % (epoch, d1_loss[0], 100*d1_loss[1], d2_loss[0], 100*d2_loss[1], g_loss[0]))\n",
        "\n",
        "        # If at save interval => save generated image samples\n",
        "        if epoch % sample_interval == 0:\n",
        "            self.sample_images(epoch)"
      ],
      "execution_count": 0,
      "outputs": []
    },
    {
      "cell_type": "code",
      "metadata": {
        "id": "lPZnBOD0pIOV",
        "colab_type": "code",
        "colab": {}
      },
      "source": [
        "def sample_images(self, epoch):\n",
        "    r, c = 4, 4\n",
        "    noise = np.random.normal(0, 1, (r * int(c/2), 100))\n",
        "    gen_imgs1 = self.g1.predict(noise)\n",
        "    gen_imgs2 = self.g2.predict(noise)\n",
        "\n",
        "    gen_imgs = np.concatenate([gen_imgs1, gen_imgs2])\n",
        "\n",
        "    # Rescale images 0 - 1\n",
        "    gen_imgs = 0.5 * gen_imgs + 0.5\n",
        "\n",
        "    fig, axs = plt.subplots(r, c)\n",
        "    cnt = 0\n",
        "    for i in range(r):\n",
        "        for j in range(c):\n",
        "            axs[i,j].imshow(gen_imgs[cnt, :,:,0], cmap='gray')\n",
        "            axs[i,j].axis('off')\n",
        "            cnt += 1\n",
        "    fig.savefig(\"images/mnist_%d.png\" % epoch)\n",
        "    plt.close()"
      ],
      "execution_count": 0,
      "outputs": []
    },
    {
      "cell_type": "code",
      "metadata": {
        "id": "gMi0KbCDo-tY",
        "colab_type": "code",
        "colab": {}
      },
      "source": [
        "gan = COGAN()\n",
        "gan.train(epochs=30000, batch_size=32, sample_interval=200)"
      ],
      "execution_count": 0,
      "outputs": []
    }
  ]
}