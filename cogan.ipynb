{
  "nbformat": 4,
  "nbformat_minor": 0,
  "metadata": {
    "colab": {
      "name": "cogan.ipynb",
      "provenance": [],
      "authorship_tag": "ABX9TyN2lv0sKQbTEDxiRUSAPfLa",
      "include_colab_link": true
    },
    "kernelspec": {
      "name": "python3",
      "display_name": "Python 3"
    }
  },
  "cells": [
    {
      "cell_type": "markdown",
      "metadata": {
        "id": "view-in-github",
        "colab_type": "text"
      },
      "source": [
        "<a href=\"https://colab.research.google.com/github/RoozbehSanaei/deep-learning-notebooks/blob/master/cogan.ipynb\" target=\"_parent\"><img src=\"https://colab.research.google.com/assets/colab-badge.svg\" alt=\"Open In Colab\"/></a>"
      ]
    },
    {
      "cell_type": "markdown",
      "metadata": {
        "id": "H2MfyDK_pc4s",
        "colab_type": "text"
      },
      "source": [
        "[**Coupled Generative Adversarial Networks**](https://arxiv.org/abs/1606.07536)"
      ]
    },
    {
      "cell_type": "code",
      "metadata": {
        "id": "0vlNoVRUo5Vz",
        "colab_type": "code",
        "outputId": "3f013dd5-64b6-4702-cc77-bca65156e11e",
        "colab": {
          "base_uri": "https://localhost:8080/",
          "height": 79
        }
      },
      "source": [
        "from __future__ import print_function, division\n",
        "import scipy\n",
        "\n",
        "from keras.datasets import mnist\n",
        "from keras.layers import Input, Dense, Reshape, Flatten, Dropout\n",
        "from keras.layers import BatchNormalization, Activation, ZeroPadding2D\n",
        "from keras.layers.advanced_activations import LeakyReLU\n",
        "from keras.layers.convolutional import UpSampling2D, Conv2D\n",
        "from keras.models import Sequential, Model\n",
        "from keras.optimizers import Adam\n",
        "\n",
        "import matplotlib.pyplot as plt\n",
        "\n",
        "import sys\n",
        "\n",
        "import numpy as np\n"
      ],
      "execution_count": 1,
      "outputs": [
        {
          "output_type": "stream",
          "text": [
            "Using TensorFlow backend.\n"
          ],
          "name": "stderr"
        },
        {
          "output_type": "display_data",
          "data": {
            "text/html": [
              "<p style=\"color: red;\">\n",
              "The default version of TensorFlow in Colab will soon switch to TensorFlow 2.x.<br>\n",
              "We recommend you <a href=\"https://www.tensorflow.org/guide/migrate\" target=\"_blank\">upgrade</a> now \n",
              "or ensure your notebook will continue to use TensorFlow 1.x via the <code>%tensorflow_version 1.x</code> magic:\n",
              "<a href=\"https://colab.research.google.com/notebooks/tensorflow_version.ipynb\" target=\"_blank\">more info</a>.</p>\n"
            ],
            "text/plain": [
              "<IPython.core.display.HTML object>"
            ]
          },
          "metadata": {
            "tags": []
          }
        }
      ]
    },
    {
      "cell_type": "code",
      "metadata": {
        "id": "h53ET6Wio7We",
        "colab_type": "code",
        "colab": {}
      },
      "source": [
        "class COGAN():\n",
        "    def __init__(self):\n",
        "        self.img_rows = 28\n",
        "        self.img_cols = 28\n",
        "        self.channels = 1\n",
        "        self.img_shape = (self.img_rows, self.img_cols, self.channels)\n",
        "        self.latent_dim = 100\n",
        "\n",
        "        optimizer = Adam(0.0002, 0.5)\n",
        "\n",
        "        # Build and compile the discriminator\n",
        "        self.d1, self.d2 = self.build_discriminators()\n",
        "        self.d1.compile(loss='binary_crossentropy',\n",
        "            optimizer=optimizer,\n",
        "            metrics=['accuracy'])\n",
        "        self.d2.compile(loss='binary_crossentropy',\n",
        "            optimizer=optimizer,\n",
        "            metrics=['accuracy'])\n",
        "\n",
        "        # Build the generator\n",
        "        self.g1, self.g2 = self.build_generators()\n",
        "\n",
        "        # The generator takes noise as input and generated imgs\n",
        "        z = Input(shape=(self.latent_dim,))\n",
        "        img1 = self.g1(z)\n",
        "        img2 = self.g2(z)\n",
        "\n",
        "        # For the combined model we will only train the generators\n",
        "        self.d1.trainable = False\n",
        "        self.d2.trainable = False\n",
        "\n",
        "        # The valid takes generated images as input and determines validity\n",
        "        valid1 = self.d1(img1)\n",
        "        valid2 = self.d2(img2)\n",
        "\n",
        "        # The combined model  (stacked generators and discriminators)\n",
        "        # Trains generators to fool discriminators\n",
        "        self.combined = Model(z, [valid1, valid2])\n",
        "        self.combined.compile(loss=['binary_crossentropy', 'binary_crossentropy'],\n",
        "                                    optimizer=optimizer)"
      ],
      "execution_count": 0,
      "outputs": []
    },
    {
      "cell_type": "code",
      "metadata": {
        "id": "R7yRPvMVpDoF",
        "colab_type": "code",
        "colab": {}
      },
      "source": [
        "def build_generators(self):\n",
        "\n",
        "    # Shared weights between generators\n",
        "    model = Sequential()\n",
        "    model.add(Dense(256, input_dim=self.latent_dim))\n",
        "    model.add(LeakyReLU(alpha=0.2))\n",
        "    model.add(BatchNormalization(momentum=0.8))\n",
        "    model.add(Dense(512))\n",
        "    model.add(LeakyReLU(alpha=0.2))\n",
        "    model.add(BatchNormalization(momentum=0.8))\n",
        "\n",
        "    noise = Input(shape=(self.latent_dim,))\n",
        "    feature_repr = model(noise)\n",
        "\n",
        "    # Generator 1\n",
        "    g1 = Dense(1024)(feature_repr)\n",
        "    g1 = LeakyReLU(alpha=0.2)(g1)\n",
        "    g1 = BatchNormalization(momentum=0.8)(g1)\n",
        "    g1 = Dense(np.prod(self.img_shape), activation='tanh')(g1)\n",
        "    img1 = Reshape(self.img_shape)(g1)\n",
        "\n",
        "    # Generator 2\n",
        "    g2 = Dense(1024)(feature_repr)\n",
        "    g2 = LeakyReLU(alpha=0.2)(g2)\n",
        "    g2 = BatchNormalization(momentum=0.8)(g2)\n",
        "    g2 = Dense(np.prod(self.img_shape), activation='tanh')(g2)\n",
        "    img2 = Reshape(self.img_shape)(g2)\n",
        "\n",
        "    model.summary()\n",
        "\n",
        "    return Model(noise, img1), Model(noise, img2)\n",
        "\n",
        "COGAN.build_generators = build_generators\n",
        "del build_generators"
      ],
      "execution_count": 0,
      "outputs": []
    },
    {
      "cell_type": "code",
      "metadata": {
        "id": "AgOT4Q7lpGwl",
        "colab_type": "code",
        "colab": {}
      },
      "source": [
        "def build_discriminators(self):\n",
        "\n",
        "    img1 = Input(shape=self.img_shape)\n",
        "    img2 = Input(shape=self.img_shape)\n",
        "\n",
        "    # Shared discriminator layers\n",
        "    model = Sequential()\n",
        "    model.add(Flatten(input_shape=self.img_shape))\n",
        "    model.add(Dense(512))\n",
        "    model.add(LeakyReLU(alpha=0.2))\n",
        "    model.add(Dense(256))\n",
        "    model.add(LeakyReLU(alpha=0.2))\n",
        "\n",
        "    img1_embedding = model(img1)\n",
        "    img2_embedding = model(img2)\n",
        "\n",
        "    # Discriminator 1\n",
        "    validity1 = Dense(1, activation='sigmoid')(img1_embedding)\n",
        "    # Discriminator 2\n",
        "    validity2 = Dense(1, activation='sigmoid')(img2_embedding)\n",
        "\n",
        "    return Model(img1, validity1), Model(img2, validity2)\n",
        "\n",
        "COGAN.build_discriminators = build_discriminators;\n",
        "del build_discriminators"
      ],
      "execution_count": 0,
      "outputs": []
    },
    {
      "cell_type": "code",
      "metadata": {
        "id": "lPZnBOD0pIOV",
        "colab_type": "code",
        "colab": {}
      },
      "source": [
        "def sample_images(self, epoch):\n",
        "    r, c = 4, 4\n",
        "    noise = np.random.normal(0, 1, (r * int(c/2), 100))\n",
        "    gen_imgs1 = self.g1.predict(noise)\n",
        "    gen_imgs2 = self.g2.predict(noise)\n",
        "\n",
        "    gen_imgs = np.concatenate([gen_imgs1, gen_imgs2])\n",
        "\n",
        "    # Rescale images 0 - 1\n",
        "    gen_imgs = 0.5 * gen_imgs + 0.5\n",
        "\n",
        "    fig, axs = plt.subplots(r, c)\n",
        "    cnt = 0\n",
        "    for i in range(r):\n",
        "        for j in range(c):\n",
        "            axs[i,j].imshow(gen_imgs[cnt, :,:,0], cmap='gray')\n",
        "            axs[i,j].axis('off')\n",
        "            cnt += 1\n",
        "    fig.savefig(\"images/mnist_%d.png\" % epoch)\n",
        "    plt.close()\n",
        "\n",
        "COGAN.sample_images = sample_images;\n",
        "del sample_images"
      ],
      "execution_count": 0,
      "outputs": []
    },
    {
      "cell_type": "code",
      "metadata": {
        "id": "37yqKGtcpJnU",
        "colab_type": "code",
        "colab": {}
      },
      "source": [
        "def train(self, epochs, batch_size=128, sample_interval=50):\n",
        "\n",
        "    # Load the dataset\n",
        "    (X_train, _), (_, _) = mnist.load_data()\n",
        "\n",
        "    # Rescale -1 to 1\n",
        "    X_train = (X_train.astype(np.float32) - 127.5) / 127.5\n",
        "    X_train = np.expand_dims(X_train, axis=3)\n",
        "\n",
        "    # Images in domain A and B (rotated)\n",
        "    X1 = X_train[:int(X_train.shape[0]/2)]\n",
        "    X2 = X_train[int(X_train.shape[0]/2):]\n",
        "    X2 = scipy.ndimage.interpolation.rotate(X2, 90, axes=(1, 2))\n",
        "\n",
        "    # Adversarial ground truths\n",
        "    valid = np.ones((batch_size, 1))\n",
        "    fake = np.zeros((batch_size, 1))\n",
        "\n",
        "    for epoch in range(epochs):\n",
        "\n",
        "        # ----------------------\n",
        "        #  Train Discriminators\n",
        "        # ----------------------\n",
        "\n",
        "        # Select a random batch of images\n",
        "        idx = np.random.randint(0, X1.shape[0], batch_size)\n",
        "        imgs1 = X1[idx]\n",
        "        imgs2 = X2[idx]\n",
        "\n",
        "        # Sample noise as generator input\n",
        "        noise = np.random.normal(0, 1, (batch_size, 100))\n",
        "\n",
        "        # Generate a batch of new images\n",
        "        gen_imgs1 = self.g1.predict(noise)\n",
        "        gen_imgs2 = self.g2.predict(noise)\n",
        "\n",
        "        # Train the discriminators\n",
        "        d1_loss_real = self.d1.train_on_batch(imgs1, valid)\n",
        "        d2_loss_real = self.d2.train_on_batch(imgs2, valid)\n",
        "        d1_loss_fake = self.d1.train_on_batch(gen_imgs1, fake)\n",
        "        d2_loss_fake = self.d2.train_on_batch(gen_imgs2, fake)\n",
        "        d1_loss = 0.5 * np.add(d1_loss_real, d1_loss_fake)\n",
        "        d2_loss = 0.5 * np.add(d2_loss_real, d2_loss_fake)\n",
        "\n",
        "\n",
        "        # ------------------\n",
        "        #  Train Generators\n",
        "        # ------------------\n",
        "\n",
        "        g_loss = self.combined.train_on_batch(noise, [valid, valid])\n",
        "\n",
        "        # Plot the progress\n",
        "        print (\"%d [D1 loss: %f, acc.: %.2f%%] [D2 loss: %f, acc.: %.2f%%] [G loss: %f]\" \\\n",
        "            % (epoch, d1_loss[0], 100*d1_loss[1], d2_loss[0], 100*d2_loss[1], g_loss[0]))\n",
        "\n",
        "        # If at save interval => save generated image samples\n",
        "        if epoch % sample_interval == 0:\n",
        "            self.sample_images(epoch)\n",
        "\n",
        "COGAN.train = train;\n",
        "del train"
      ],
      "execution_count": 0,
      "outputs": []
    },
    {
      "cell_type": "code",
      "metadata": {
        "id": "gMi0KbCDo-tY",
        "colab_type": "code",
        "outputId": "09b71489-4397-405c-f77a-7c2f427d91fd",
        "colab": {
          "base_uri": "https://localhost:8080/",
          "height": 1000
        }
      },
      "source": [
        "gan = COGAN()\n",
        "gan.train(epochs=30000, batch_size=32, sample_interval=200)"
      ],
      "execution_count": 7,
      "outputs": [
        {
          "output_type": "stream",
          "text": [
            "WARNING:tensorflow:From /usr/local/lib/python3.6/dist-packages/keras/backend/tensorflow_backend.py:66: The name tf.get_default_graph is deprecated. Please use tf.compat.v1.get_default_graph instead.\n",
            "\n",
            "WARNING:tensorflow:From /usr/local/lib/python3.6/dist-packages/keras/backend/tensorflow_backend.py:541: The name tf.placeholder is deprecated. Please use tf.compat.v1.placeholder instead.\n",
            "\n",
            "WARNING:tensorflow:From /usr/local/lib/python3.6/dist-packages/keras/backend/tensorflow_backend.py:4432: The name tf.random_uniform is deprecated. Please use tf.random.uniform instead.\n",
            "\n",
            "WARNING:tensorflow:From /usr/local/lib/python3.6/dist-packages/keras/optimizers.py:793: The name tf.train.Optimizer is deprecated. Please use tf.compat.v1.train.Optimizer instead.\n",
            "\n",
            "WARNING:tensorflow:From /usr/local/lib/python3.6/dist-packages/keras/backend/tensorflow_backend.py:3657: The name tf.log is deprecated. Please use tf.math.log instead.\n",
            "\n",
            "WARNING:tensorflow:From /usr/local/lib/python3.6/dist-packages/tensorflow_core/python/ops/nn_impl.py:183: where (from tensorflow.python.ops.array_ops) is deprecated and will be removed in a future version.\n",
            "Instructions for updating:\n",
            "Use tf.where in 2.0, which has the same broadcast rule as np.where\n",
            "WARNING:tensorflow:From /usr/local/lib/python3.6/dist-packages/keras/backend/tensorflow_backend.py:148: The name tf.placeholder_with_default is deprecated. Please use tf.compat.v1.placeholder_with_default instead.\n",
            "\n",
            "Model: \"sequential_2\"\n",
            "_________________________________________________________________\n",
            "Layer (type)                 Output Shape              Param #   \n",
            "=================================================================\n",
            "dense_5 (Dense)              (None, 256)               25856     \n",
            "_________________________________________________________________\n",
            "leaky_re_lu_3 (LeakyReLU)    (None, 256)               0         \n",
            "_________________________________________________________________\n",
            "batch_normalization_1 (Batch (None, 256)               1024      \n",
            "_________________________________________________________________\n",
            "dense_6 (Dense)              (None, 512)               131584    \n",
            "_________________________________________________________________\n",
            "leaky_re_lu_4 (LeakyReLU)    (None, 512)               0         \n",
            "_________________________________________________________________\n",
            "batch_normalization_2 (Batch (None, 512)               2048      \n",
            "=================================================================\n",
            "Total params: 160,512\n",
            "Trainable params: 158,976\n",
            "Non-trainable params: 1,536\n",
            "_________________________________________________________________\n",
            "WARNING:tensorflow:From /usr/local/lib/python3.6/dist-packages/keras/backend/tensorflow_backend.py:3005: The name tf.Session is deprecated. Please use tf.compat.v1.Session instead.\n",
            "\n",
            "WARNING:tensorflow:From /usr/local/lib/python3.6/dist-packages/keras/backend/tensorflow_backend.py:190: The name tf.get_default_session is deprecated. Please use tf.compat.v1.get_default_session instead.\n",
            "\n",
            "WARNING:tensorflow:From /usr/local/lib/python3.6/dist-packages/keras/backend/tensorflow_backend.py:197: The name tf.ConfigProto is deprecated. Please use tf.compat.v1.ConfigProto instead.\n",
            "\n",
            "WARNING:tensorflow:From /usr/local/lib/python3.6/dist-packages/keras/backend/tensorflow_backend.py:207: The name tf.global_variables is deprecated. Please use tf.compat.v1.global_variables instead.\n",
            "\n",
            "WARNING:tensorflow:From /usr/local/lib/python3.6/dist-packages/keras/backend/tensorflow_backend.py:216: The name tf.is_variable_initialized is deprecated. Please use tf.compat.v1.is_variable_initialized instead.\n",
            "\n",
            "WARNING:tensorflow:From /usr/local/lib/python3.6/dist-packages/keras/backend/tensorflow_backend.py:223: The name tf.variables_initializer is deprecated. Please use tf.compat.v1.variables_initializer instead.\n",
            "\n",
            "WARNING:tensorflow:From /usr/local/lib/python3.6/dist-packages/keras/backend/tensorflow_backend.py:1033: The name tf.assign_add is deprecated. Please use tf.compat.v1.assign_add instead.\n",
            "\n"
          ],
          "name": "stdout"
        },
        {
          "output_type": "stream",
          "text": [
            "/usr/local/lib/python3.6/dist-packages/keras/engine/training.py:493: UserWarning: Discrepancy between trainable weights and collected trainable weights, did you set `model.trainable` without calling `model.compile` after ?\n",
            "  'Discrepancy between trainable weights and collected trainable'\n"
          ],
          "name": "stderr"
        },
        {
          "output_type": "stream",
          "text": [
            "WARNING:tensorflow:From /usr/local/lib/python3.6/dist-packages/keras/backend/tensorflow_backend.py:1020: The name tf.assign is deprecated. Please use tf.compat.v1.assign instead.\n",
            "\n",
            "0 [D1 loss: 0.768032, acc.: 35.94%] [D2 loss: 0.798660, acc.: 46.88%] [G loss: 1.557213]\n"
          ],
          "name": "stdout"
        },
        {
          "output_type": "stream",
          "text": [
            "ERROR:root:Internal Python error in the inspect module.\n",
            "Below is the traceback from this internal error.\n",
            "\n"
          ],
          "name": "stderr"
        },
        {
          "output_type": "stream",
          "text": [
            "Traceback (most recent call last):\n",
            "  File \"/usr/local/lib/python3.6/dist-packages/IPython/core/interactiveshell.py\", line 2882, in run_code\n",
            "    exec(code_obj, self.user_global_ns, self.user_ns)\n",
            "  File \"<ipython-input-7-117df594fa46>\", line 2, in <module>\n",
            "    gan.train(epochs=30000, batch_size=32, sample_interval=200)\n",
            "  File \"<ipython-input-6-f94bf840617d>\", line 57, in train\n",
            "    self.sample_images(epoch)\n",
            "  File \"<ipython-input-5-18521a8f848b>\", line 19, in sample_images\n",
            "    fig.savefig(\"images/mnist_%d.png\" % epoch)\n",
            "  File \"/usr/local/lib/python3.6/dist-packages/matplotlib/figure.py\", line 2180, in savefig\n",
            "    self.canvas.print_figure(fname, **kwargs)\n",
            "  File \"/usr/local/lib/python3.6/dist-packages/matplotlib/backend_bases.py\", line 2091, in print_figure\n",
            "    **kwargs)\n",
            "  File \"/usr/local/lib/python3.6/dist-packages/matplotlib/backends/backend_agg.py\", line 530, in print_png\n",
            "    cbook.open_file_cm(filename_or_obj, \"wb\") as fh:\n",
            "  File \"/usr/lib/python3.6/contextlib.py\", line 81, in __enter__\n",
            "    return next(self.gen)\n",
            "  File \"/usr/local/lib/python3.6/dist-packages/matplotlib/cbook/__init__.py\", line 447, in open_file_cm\n",
            "    fh, opened = to_filehandle(path_or_file, mode, True, encoding)\n",
            "  File \"/usr/local/lib/python3.6/dist-packages/matplotlib/cbook/__init__.py\", line 432, in to_filehandle\n",
            "    fh = open(fname, flag, encoding=encoding)\n",
            "FileNotFoundError: [Errno 2] No such file or directory: 'images/mnist_0.png'\n",
            "\n",
            "During handling of the above exception, another exception occurred:\n",
            "\n",
            "Traceback (most recent call last):\n",
            "  File \"/usr/local/lib/python3.6/dist-packages/IPython/core/interactiveshell.py\", line 1823, in showtraceback\n",
            "    stb = value._render_traceback_()\n",
            "AttributeError: 'FileNotFoundError' object has no attribute '_render_traceback_'\n",
            "\n",
            "During handling of the above exception, another exception occurred:\n",
            "\n",
            "Traceback (most recent call last):\n",
            "  File \"/usr/local/lib/python3.6/dist-packages/IPython/core/ultratb.py\", line 1132, in get_records\n",
            "    return _fixed_getinnerframes(etb, number_of_lines_of_context, tb_offset)\n",
            "  File \"/usr/local/lib/python3.6/dist-packages/IPython/core/ultratb.py\", line 313, in wrapped\n",
            "    return f(*args, **kwargs)\n",
            "  File \"/usr/local/lib/python3.6/dist-packages/IPython/core/ultratb.py\", line 358, in _fixed_getinnerframes\n",
            "    records = fix_frame_records_filenames(inspect.getinnerframes(etb, context))\n",
            "  File \"/usr/lib/python3.6/inspect.py\", line 1490, in getinnerframes\n",
            "    frameinfo = (tb.tb_frame,) + getframeinfo(tb, context)\n",
            "  File \"/usr/lib/python3.6/inspect.py\", line 1448, in getframeinfo\n",
            "    filename = getsourcefile(frame) or getfile(frame)\n",
            "  File \"/usr/lib/python3.6/inspect.py\", line 696, in getsourcefile\n",
            "    if getattr(getmodule(object, filename), '__loader__', None) is not None:\n",
            "  File \"/usr/lib/python3.6/inspect.py\", line 733, in getmodule\n",
            "    if ismodule(module) and hasattr(module, '__file__'):\n",
            "  File \"/usr/local/lib/python3.6/dist-packages/tensorflow/__init__.py\", line 50, in __getattr__\n",
            "    module = self._load()\n",
            "  File \"/usr/local/lib/python3.6/dist-packages/tensorflow/__init__.py\", line 44, in _load\n",
            "    module = _importlib.import_module(self.__name__)\n",
            "  File \"/usr/lib/python3.6/importlib/__init__.py\", line 126, in import_module\n",
            "    return _bootstrap._gcd_import(name[level:], package, level)\n",
            "  File \"<frozen importlib._bootstrap>\", line 994, in _gcd_import\n",
            "  File \"<frozen importlib._bootstrap>\", line 971, in _find_and_load\n",
            "  File \"<frozen importlib._bootstrap>\", line 955, in _find_and_load_unlocked\n",
            "  File \"<frozen importlib._bootstrap>\", line 665, in _load_unlocked\n",
            "  File \"<frozen importlib._bootstrap_external>\", line 678, in exec_module\n",
            "  File \"<frozen importlib._bootstrap>\", line 219, in _call_with_frames_removed\n",
            "  File \"/usr/local/lib/python3.6/dist-packages/tensorflow_core/contrib/__init__.py\", line 47, in <module>\n",
            "    from tensorflow.contrib import distributions\n",
            "  File \"/usr/local/lib/python3.6/dist-packages/tensorflow_core/contrib/distributions/__init__.py\", line 29, in <module>\n",
            "    from tensorflow.contrib.distributions.python.ops import bijectors\n",
            "  File \"/usr/local/lib/python3.6/dist-packages/tensorflow_core/contrib/distributions/__init__.py\", line 44, in <module>\n",
            "    from tensorflow.contrib.distributions.python.ops.estimator import *\n",
            "  File \"/usr/local/lib/python3.6/dist-packages/tensorflow_core/contrib/distributions/python/ops/estimator.py\", line 21, in <module>\n",
            "    from tensorflow.contrib.learn.python.learn.estimators.head import _compute_weighted_loss\n",
            "  File \"/usr/local/lib/python3.6/dist-packages/tensorflow_core/contrib/learn/__init__.py\", line 93, in <module>\n",
            "    from tensorflow.contrib.learn.python.learn import *\n",
            "  File \"/usr/local/lib/python3.6/dist-packages/tensorflow_core/contrib/learn/python/__init__.py\", line 28, in <module>\n",
            "    from tensorflow.contrib.learn.python.learn import *\n",
            "  File \"/usr/local/lib/python3.6/dist-packages/tensorflow_core/contrib/learn/python/learn/__init__.py\", line 30, in <module>\n",
            "    from tensorflow.contrib.learn.python.learn import estimators\n",
            "  File \"/usr/local/lib/python3.6/dist-packages/tensorflow_core/contrib/learn/python/learn/estimators/__init__.py\", line 302, in <module>\n",
            "    from tensorflow.contrib.learn.python.learn.estimators.dnn import DNNClassifier\n",
            "  File \"/usr/local/lib/python3.6/dist-packages/tensorflow_core/contrib/learn/python/learn/estimators/dnn.py\", line 34, in <module>\n",
            "    from tensorflow.contrib.learn.python.learn.estimators import dnn_linear_combined\n",
            "  File \"/usr/local/lib/python3.6/dist-packages/tensorflow_core/contrib/learn/python/learn/estimators/dnn_linear_combined.py\", line 36, in <module>\n",
            "    from tensorflow.contrib.learn.python.learn.estimators import estimator\n",
            "  File \"/usr/local/lib/python3.6/dist-packages/tensorflow_core/contrib/learn/python/learn/estimators/estimator.py\", line 52, in <module>\n",
            "    from tensorflow.contrib.learn.python.learn.learn_io import data_feeder\n",
            "  File \"/usr/local/lib/python3.6/dist-packages/tensorflow_core/contrib/learn/python/learn/learn_io/__init__.py\", line 26, in <module>\n",
            "    from tensorflow.contrib.learn.python.learn.learn_io.dask_io import extract_dask_data\n",
            "  File \"/usr/local/lib/python3.6/dist-packages/tensorflow_core/contrib/learn/python/learn/learn_io/dask_io.py\", line 33, in <module>\n",
            "    import dask.dataframe as dd\n",
            "  File \"/usr/local/lib/python3.6/dist-packages/dask/dataframe/__init__.py\", line 2, in <module>\n",
            "    from .core import (\n",
            "  File \"/usr/local/lib/python3.6/dist-packages/dask/dataframe/core.py\", line 4420, in <module>\n",
            "    Series._bind_operator_method(name, meth)\n",
            "  File \"/usr/local/lib/python3.6/dist-packages/dask/dataframe/core.py\", line 2960, in _bind_operator_method\n",
            "    setattr(cls, name, derived_from(pd.Series)(meth))\n",
            "  File \"/usr/local/lib/python3.6/dist-packages/dask/utils.py\", line 675, in wrapper\n",
            "    original_klass, method, ua_args=ua_args, extra=extra\n",
            "  File \"/usr/local/lib/python3.6/dist-packages/dask/utils.py\", line 636, in _derived_from\n",
            "    method_args = get_named_args(method)\n",
            "  File \"/usr/local/lib/python3.6/dist-packages/dask/utils.py\", line 432, in get_named_args\n",
            "    s = inspect.signature(func)\n",
            "  File \"/usr/lib/python3.6/inspect.py\", line 3065, in signature\n",
            "    return Signature.from_callable(obj, follow_wrapped=follow_wrapped)\n",
            "  File \"/usr/lib/python3.6/inspect.py\", line 2815, in from_callable\n",
            "    follow_wrapper_chains=follow_wrapped)\n",
            "  File \"/usr/lib/python3.6/inspect.py\", line 2211, in _signature_from_callable\n",
            "    obj = unwrap(obj, stop=(lambda f: hasattr(f, \"__signature__\")))\n",
            "  File \"/usr/lib/python3.6/inspect.py\", line 512, in unwrap\n",
            "    while _is_wrapper(func):\n",
            "  File \"/usr/lib/python3.6/inspect.py\", line 506, in _is_wrapper\n",
            "    return hasattr(f, '__wrapped__') and not stop(f)\n",
            "KeyboardInterrupt\n"
          ],
          "name": "stdout"
        },
        {
          "output_type": "error",
          "ename": "FileNotFoundError",
          "evalue": "ignored",
          "traceback": [
            "\u001b[0;31m---------------------------------------------------------------------------\u001b[0m"
          ]
        },
        {
          "output_type": "display_data",
          "data": {
            "image/png": "[encoded data removed]",
            "text/plain": [
              "<Figure size 432x288 with 16 Axes>"
            ]
          },
          "metadata": {
            "tags": []
          }
        }
      ]
    }
  ]
}