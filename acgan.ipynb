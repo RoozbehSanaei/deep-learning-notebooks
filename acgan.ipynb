{
  "nbformat": 4,
  "nbformat_minor": 0,
  "metadata": {
    "colab": {
      "name": "acgan.ipynb",
      "provenance": [],
      "authorship_tag": "ABX9TyOj1t97rqkloJTmWYvDHEps",
      "include_colab_link": true
    },
    "kernelspec": {
      "name": "python3",
      "display_name": "Python 3"
    }
  },
  "cells": [
    {
      "cell_type": "markdown",
      "metadata": {
        "id": "view-in-github",
        "colab_type": "text"
      },
      "source": [
        "<a href=\"https://colab.research.google.com/github/RoozbehSanaei/deep-learning-notebooks/blob/master/acgan.ipynb\" target=\"_parent\"><img src=\"https://colab.research.google.com/assets/colab-badge.svg\" alt=\"Open In Colab\"/></a>"
      ]
    },
    {
      "cell_type": "markdown",
      "metadata": {
        "id": "GVYEchgpsc3F",
        "colab_type": "text"
      },
      "source": [
        "[**Conditional Image Synthesis With Auxiliary Classifier GANs**\n",
        "](https://arxiv.org/abs/1610.09585)"
      ]
    },
    {
      "cell_type": "code",
      "metadata": {
        "id": "kAs_JqWAsBUT",
        "colab_type": "code",
        "colab": {}
      },
      "source": [
        "from __future__ import print_function, division\n",
        "\n",
        "from keras.datasets import mnist\n",
        "from keras.layers import Input, Dense, Reshape, Flatten, Dropout, multiply\n",
        "from keras.layers import BatchNormalization, Activation, Embedding, ZeroPadding2D\n",
        "from keras.layers.advanced_activations import LeakyReLU\n",
        "from keras.layers.convolutional import UpSampling2D, Conv2D\n",
        "from keras.models import Sequential, Model\n",
        "from keras.optimizers import Adam\n",
        "\n",
        "import matplotlib.pyplot as plt\n",
        "\n",
        "import numpy as np"
      ],
      "execution_count": 0,
      "outputs": []
    },
    {
      "cell_type": "code",
      "metadata": {
        "id": "JR7CgstqsEbM",
        "colab_type": "code",
        "colab": {}
      },
      "source": [
        "class ACGAN():\n",
        "    def __init__(self):\n",
        "        # Input shape\n",
        "        self.img_rows = 28\n",
        "        self.img_cols = 28\n",
        "        self.channels = 1\n",
        "        self.img_shape = (self.img_rows, self.img_cols, self.channels)\n",
        "        self.num_classes = 10\n",
        "        self.latent_dim = 100\n",
        "\n",
        "        optimizer = Adam(0.0002, 0.5)\n",
        "        losses = ['binary_crossentropy', 'sparse_categorical_crossentropy']\n",
        "\n",
        "        # Build and compile the discriminator\n",
        "        self.discriminator = self.build_discriminator()\n",
        "        self.discriminator.compile(loss=losses,\n",
        "            optimizer=optimizer,\n",
        "            metrics=['accuracy'])\n",
        "\n",
        "        # Build the generator\n",
        "        self.generator = self.build_generator()\n",
        "\n",
        "        # The generator takes noise and the target label as input\n",
        "        # and generates the corresponding digit of that label\n",
        "        noise = Input(shape=(self.latent_dim,))\n",
        "        label = Input(shape=(1,))\n",
        "        img = self.generator([noise, label])\n",
        "\n",
        "        # For the combined model we will only train the generator\n",
        "        self.discriminator.trainable = False\n",
        "\n",
        "        # The discriminator takes generated image as input and determines validity\n",
        "        # and the label of that image\n",
        "        valid, target_label = self.discriminator(img)\n",
        "\n",
        "        # The combined model  (stacked generator and discriminator)\n",
        "        # Trains the generator to fool the discriminator\n",
        "        self.combined = Model([noise, label], [valid, target_label])\n",
        "        self.combined.compile(loss=losses,\n",
        "            optimizer=optimizer)"
      ],
      "execution_count": 0,
      "outputs": []
    },
    {
      "cell_type": "code",
      "metadata": {
        "id": "NcpK5kETsHgL",
        "colab_type": "code",
        "colab": {}
      },
      "source": [
        "def build_generator(self):\n",
        "\n",
        "    model = Sequential()\n",
        "\n",
        "    model.add(Dense(128 * 7 * 7, activation=\"relu\", input_dim=self.latent_dim))\n",
        "    model.add(Reshape((7, 7, 128)))\n",
        "    model.add(BatchNormalization(momentum=0.8))\n",
        "    model.add(UpSampling2D())\n",
        "    model.add(Conv2D(128, kernel_size=3, padding=\"same\"))\n",
        "    model.add(Activation(\"relu\"))\n",
        "    model.add(BatchNormalization(momentum=0.8))\n",
        "    model.add(UpSampling2D())\n",
        "    model.add(Conv2D(64, kernel_size=3, padding=\"same\"))\n",
        "    model.add(Activation(\"relu\"))\n",
        "    model.add(BatchNormalization(momentum=0.8))\n",
        "    model.add(Conv2D(self.channels, kernel_size=3, padding='same'))\n",
        "    model.add(Activation(\"tanh\"))\n",
        "\n",
        "    model.summary()\n",
        "\n",
        "    noise = Input(shape=(self.latent_dim,))\n",
        "    label = Input(shape=(1,), dtype='int32')\n",
        "    label_embedding = Flatten()(Embedding(self.num_classes, self.latent_dim)(label))\n",
        "\n",
        "    model_input = multiply([noise, label_embedding])\n",
        "    img = model(model_input)\n",
        "\n",
        "    return Model([noise, label], img)"
      ],
      "execution_count": 0,
      "outputs": []
    },
    {
      "cell_type": "code",
      "metadata": {
        "id": "ENGx-ErBsRnc",
        "colab_type": "code",
        "colab": {}
      },
      "source": [
        "def build_discriminator(self):\n",
        "\n",
        "    model = Sequential()\n",
        "\n",
        "    model.add(Conv2D(16, kernel_size=3, strides=2, input_shape=self.img_shape, padding=\"same\"))\n",
        "    model.add(LeakyReLU(alpha=0.2))\n",
        "    model.add(Dropout(0.25))\n",
        "    model.add(Conv2D(32, kernel_size=3, strides=2, padding=\"same\"))\n",
        "    model.add(ZeroPadding2D(padding=((0,1),(0,1))))\n",
        "    model.add(LeakyReLU(alpha=0.2))\n",
        "    model.add(Dropout(0.25))\n",
        "    model.add(BatchNormalization(momentum=0.8))\n",
        "    model.add(Conv2D(64, kernel_size=3, strides=2, padding=\"same\"))\n",
        "    model.add(LeakyReLU(alpha=0.2))\n",
        "    model.add(Dropout(0.25))\n",
        "    model.add(BatchNormalization(momentum=0.8))\n",
        "    model.add(Conv2D(128, kernel_size=3, strides=1, padding=\"same\"))\n",
        "    model.add(LeakyReLU(alpha=0.2))\n",
        "    model.add(Dropout(0.25))\n",
        "\n",
        "    model.add(Flatten())\n",
        "    model.summary()\n",
        "\n",
        "    img = Input(shape=self.img_shape)\n",
        "\n",
        "    # Extract feature representation\n",
        "    features = model(img)\n",
        "\n",
        "    # Determine validity and label of the image\n",
        "    validity = Dense(1, activation=\"sigmoid\")(features)\n",
        "    label = Dense(self.num_classes, activation=\"softmax\")(features)\n",
        "\n",
        "    return Model(img, [validity, label])"
      ],
      "execution_count": 0,
      "outputs": []
    },
    {
      "cell_type": "code",
      "metadata": {
        "id": "Bh2fccSgsYfy",
        "colab_type": "code",
        "colab": {}
      },
      "source": [
        "\n",
        "def train(self, epochs, batch_size=128, sample_interval=50):\n",
        "\n",
        "    # Load the dataset\n",
        "    (X_train, y_train), (_, _) = mnist.load_data()\n",
        "\n",
        "    # Configure inputs\n",
        "    X_train = (X_train.astype(np.float32) - 127.5) / 127.5\n",
        "    X_train = np.expand_dims(X_train, axis=3)\n",
        "    y_train = y_train.reshape(-1, 1)\n",
        "\n",
        "    # Adversarial ground truths\n",
        "    valid = np.ones((batch_size, 1))\n",
        "    fake = np.zeros((batch_size, 1))\n",
        "\n",
        "    for epoch in range(epochs):\n",
        "\n",
        "        # ---------------------\n",
        "        #  Train Discriminator\n",
        "        # ---------------------\n",
        "\n",
        "        # Select a random batch of images\n",
        "        idx = np.random.randint(0, X_train.shape[0], batch_size)\n",
        "        imgs = X_train[idx]\n",
        "\n",
        "        # Sample noise as generator input\n",
        "        noise = np.random.normal(0, 1, (batch_size, self.latent_dim))\n",
        "\n",
        "        # The labels of the digits that the generator tries to create an\n",
        "        # image representation of\n",
        "        sampled_labels = np.random.randint(0, 10, (batch_size, 1))\n",
        "\n",
        "        # Generate a half batch of new images\n",
        "        gen_imgs = self.generator.predict([noise, sampled_labels])\n",
        "\n",
        "        # Image labels. 0-9 \n",
        "        img_labels = y_train[idx]\n",
        "\n",
        "        # Train the discriminator\n",
        "        d_loss_real = self.discriminator.train_on_batch(imgs, [valid, img_labels])\n",
        "        d_loss_fake = self.discriminator.train_on_batch(gen_imgs, [fake, sampled_labels])\n",
        "        d_loss = 0.5 * np.add(d_loss_real, d_loss_fake)\n",
        "\n",
        "        # ---------------------\n",
        "        #  Train Generator\n",
        "        # ---------------------\n",
        "\n",
        "        # Train the generator\n",
        "        g_loss = self.combined.train_on_batch([noise, sampled_labels], [valid, sampled_labels])\n",
        "\n",
        "        # Plot the progress\n",
        "        print (\"%d [D loss: %f, acc.: %.2f%%, op_acc: %.2f%%] [G loss: %f]\" % (epoch, d_loss[0], 100*d_loss[3], 100*d_loss[4], g_loss[0]))\n",
        "\n",
        "        # If at save interval => save generated image samples\n",
        "        if epoch % sample_interval == 0:\n",
        "            self.save_model()\n",
        "            self.sample_images(epoch)"
      ],
      "execution_count": 0,
      "outputs": []
    },
    {
      "cell_type": "code",
      "metadata": {
        "id": "KbVt5QZtsaYy",
        "colab_type": "code",
        "colab": {}
      },
      "source": [
        "\n",
        "def sample_images(self, epoch):\n",
        "    r, c = 10, 10\n",
        "    noise = np.random.normal(0, 1, (r * c, self.latent_dim))\n",
        "    sampled_labels = np.array([num for _ in range(r) for num in range(c)])\n",
        "    gen_imgs = self.generator.predict([noise, sampled_labels])\n",
        "    # Rescale images 0 - 1\n",
        "    gen_imgs = 0.5 * gen_imgs + 0.5\n",
        "\n",
        "    fig, axs = plt.subplots(r, c)\n",
        "    cnt = 0\n",
        "    for i in range(r):\n",
        "        for j in range(c):\n",
        "            axs[i,j].imshow(gen_imgs[cnt,:,:,0], cmap='gray')\n",
        "            axs[i,j].axis('off')\n",
        "            cnt += 1\n",
        "    fig.savefig(\"images/%d.png\" % epoch)\n",
        "    plt.close()\n"
      ],
      "execution_count": 0,
      "outputs": []
    },
    {
      "cell_type": "code",
      "metadata": {
        "id": "J_6vUveosbmn",
        "colab_type": "code",
        "colab": {}
      },
      "source": [
        "\n",
        "def save_model(self):\n",
        "\n",
        "    def save(model, model_name):\n",
        "        model_path = \"saved_model/%s.json\" % model_name\n",
        "        weights_path = \"saved_model/%s_weights.hdf5\" % model_name\n",
        "        options = {\"file_arch\": model_path,\n",
        "                    \"file_weight\": weights_path}\n",
        "        json_string = model.to_json()\n",
        "        open(options['file_arch'], 'w').write(json_string)\n",
        "        model.save_weights(options['file_weight'])\n",
        "\n",
        "    save(self.generator, \"generator\")\n",
        "    save(self.discriminator, \"discriminator\")"
      ],
      "execution_count": 0,
      "outputs": []
    },
    {
      "cell_type": "code",
      "metadata": {
        "id": "ql874gYwsLMV",
        "colab_type": "code",
        "colab": {}
      },
      "source": [
        "acgan = ACGAN()\n",
        "acgan.train(epochs=14000, batch_size=32, sample_interval=200)"
      ],
      "execution_count": 0,
      "outputs": []
    }
  ]
}