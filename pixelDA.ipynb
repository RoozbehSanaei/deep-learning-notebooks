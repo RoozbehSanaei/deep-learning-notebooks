{
  "nbformat": 4,
  "nbformat_minor": 0,
  "metadata": {
    "colab": {
      "name": "pixelDA.ipynb",
      "provenance": [],
      "collapsed_sections": [],
      "authorship_tag": "ABX9TyNpgWC8Ybjnv+LQLJtqe8v7",
      "include_colab_link": true
    },
    "kernelspec": {
      "name": "python3",
      "display_name": "Python 3"
    },
    "accelerator": "GPU"
  },
  "cells": [
    {
      "cell_type": "markdown",
      "metadata": {
        "id": "view-in-github",
        "colab_type": "text"
      },
      "source": [
        "<a href=\"https://colab.research.google.com/github/RoozbehSanaei/deep-learning-notebooks/blob/master/pixelDA.ipynb\" target=\"_parent\"><img src=\"https://colab.research.google.com/assets/colab-badge.svg\" alt=\"Open In Colab\"/></a>"
      ]
    },
    {
      "cell_type": "markdown",
      "metadata": {
        "id": "Nl65tGAH4D96",
        "colab_type": "text"
      },
      "source": [
        "![alt text](https://d3i71xaburhd42.cloudfront.net/220ac48a22547a455d05f416e1fd22bbd0b0788d/4-Figure2-1.png)"
      ]
    },
    {
      "cell_type": "code",
      "metadata": {
        "id": "j8yYzo4t5NtC",
        "colab_type": "code",
        "colab": {
          "base_uri": "https://localhost:8080/",
          "height": 382
        },
        "outputId": "8066d7c4-9478-49af-ea80-00006e7942e8"
      },
      "source": [
        "!pip install git+https://www.github.com/keras-team/keras-contrib.git\n",
        "\n",
        "from __future__ import print_function, division\n",
        "import scipy\n",
        "\n",
        "from keras.datasets import mnist\n",
        "from keras_contrib.layers.normalization.instancenormalization import InstanceNormalization\n",
        "from keras.layers import Input, Dense, Reshape, Flatten, Dropout, Concatenate\n",
        "from keras.layers import BatchNormalization, Activation, ZeroPadding2D, Add\n",
        "from keras.layers.advanced_activations import LeakyReLU\n",
        "from keras.layers.convolutional import UpSampling2D, Conv2D\n",
        "from keras.models import Sequential, Model\n",
        "from keras.optimizers import Adam\n",
        "from keras.utils import to_categorical\n",
        "import datetime\n",
        "import matplotlib.pyplot as plt\n",
        "import sys\n",
        "import numpy as np\n",
        "import os\n",
        "import scipy\n",
        "from glob import glob\n",
        "import numpy as np\n",
        "from keras.datasets import mnist\n",
        "from skimage.transform import resize as imresize\n",
        "import pickle\n",
        "import urllib\n",
        "import gzip\n",
        "import matplotlib.pyplot as plt\n",
        "\n",
        "!mkdir images\n",
        "!mkdir saved_model\n",
        "!mkdir datasets"
      ],
      "execution_count": 1,
      "outputs": [
        {
          "output_type": "stream",
          "text": [
            "Collecting git+https://www.github.com/keras-team/keras-contrib.git\n",
            "  Cloning https://www.github.com/keras-team/keras-contrib.git to /tmp/pip-req-build-io2gw7i2\n",
            "  Running command git clone -q https://www.github.com/keras-team/keras-contrib.git /tmp/pip-req-build-io2gw7i2\n",
            "Requirement already satisfied: keras in /usr/local/lib/python3.6/dist-packages (from keras-contrib==2.0.8) (2.2.5)\n",
            "Requirement already satisfied: keras-applications>=1.0.8 in /usr/local/lib/python3.6/dist-packages (from keras->keras-contrib==2.0.8) (1.0.8)\n",
            "Requirement already satisfied: keras-preprocessing>=1.1.0 in /usr/local/lib/python3.6/dist-packages (from keras->keras-contrib==2.0.8) (1.1.0)\n",
            "Requirement already satisfied: h5py in /usr/local/lib/python3.6/dist-packages (from keras->keras-contrib==2.0.8) (2.8.0)\n",
            "Requirement already satisfied: six>=1.9.0 in /usr/local/lib/python3.6/dist-packages (from keras->keras-contrib==2.0.8) (1.12.0)\n",
            "Requirement already satisfied: numpy>=1.9.1 in /usr/local/lib/python3.6/dist-packages (from keras->keras-contrib==2.0.8) (1.17.5)\n",
            "Requirement already satisfied: scipy>=0.14 in /usr/local/lib/python3.6/dist-packages (from keras->keras-contrib==2.0.8) (1.4.1)\n",
            "Requirement already satisfied: pyyaml in /usr/local/lib/python3.6/dist-packages (from keras->keras-contrib==2.0.8) (3.13)\n",
            "Building wheels for collected packages: keras-contrib\n",
            "  Building wheel for keras-contrib (setup.py) ... \u001b[?25l\u001b[?25hdone\n",
            "  Created wheel for keras-contrib: filename=keras_contrib-2.0.8-cp36-none-any.whl size=101064 sha256=d5fccef8468b65a7f0ad5b10a8a18e3fee5f7ce9d9d1c72bfd6fa91116af1d89\n",
            "  Stored in directory: /tmp/pip-ephem-wheel-cache-7pwxvak3/wheels/11/27/c8/4ed56de7b55f4f61244e2dc6ef3cdbaff2692527a2ce6502ba\n",
            "Successfully built keras-contrib\n",
            "Installing collected packages: keras-contrib\n",
            "Successfully installed keras-contrib-2.0.8\n"
          ],
          "name": "stdout"
        },
        {
          "output_type": "stream",
          "text": [
            "Using TensorFlow backend.\n"
          ],
          "name": "stderr"
        },
        {
          "output_type": "display_data",
          "data": {
            "text/html": [
              "<p style=\"color: red;\">\n",
              "The default version of TensorFlow in Colab will soon switch to TensorFlow 2.x.<br>\n",
              "We recommend you <a href=\"https://www.tensorflow.org/guide/migrate\" target=\"_blank\">upgrade</a> now \n",
              "or ensure your notebook will continue to use TensorFlow 1.x via the <code>%tensorflow_version 1.x</code> magic:\n",
              "<a href=\"https://colab.research.google.com/notebooks/tensorflow_version.ipynb\" target=\"_blank\">more info</a>.</p>\n"
            ],
            "text/plain": [
              "<IPython.core.display.HTML object>"
            ]
          },
          "metadata": {
            "tags": []
          }
        }
      ]
    },
    {
      "cell_type": "code",
      "metadata": {
        "id": "O93HUTYn8jxG",
        "colab_type": "code",
        "colab": {}
      },
      "source": [
        "\n",
        "\n",
        "class DataLoader():\n",
        "    \"\"\"Loads images from MNIST (domain A) and MNIST-M (domain B)\"\"\"\n",
        "    def __init__(self, img_res=(128, 128)):\n",
        "        self.img_res = img_res\n",
        "\n",
        "        self.mnistm_url = 'https://github.com/VanushVaswani/keras_mnistm/releases/download/1.0/keras_mnistm.pkl.gz'\n",
        "\n",
        "        self.setup_mnist(img_res)\n",
        "        self.setup_mnistm(img_res)\n",
        "\n",
        "    def normalize(self, images):\n",
        "        return images.astype(np.float32) / 127.5 - 1.\n",
        "\n",
        "    def setup_mnist(self, img_res):\n",
        "\n",
        "        print (\"Setting up MNIST...\")\n",
        "\n",
        "        if not os.path.exists('datasets/mnist_x.npy'):\n",
        "            # Load the dataset\n",
        "            (mnist_X, mnist_y), (_, _) = mnist.load_data()\n",
        "\n",
        "            # Normalize and rescale images\n",
        "            mnist_X = self.normalize(mnist_X)\n",
        "            mnist_X = np.array([imresize(x, img_res) for x in mnist_X])\n",
        "            mnist_X = np.expand_dims(mnist_X, axis=-1)\n",
        "            mnist_X = np.repeat(mnist_X, 3, axis=-1)\n",
        "\n",
        "            self.mnist_X, self.mnist_y = mnist_X, mnist_y\n",
        "\n",
        "            # Save formatted images\n",
        "            np.save('datasets/mnist_x.npy', self.mnist_X)\n",
        "            np.save('datasets/mnist_y.npy', self.mnist_y)\n",
        "        else:\n",
        "            self.mnist_X = np.load('datasets/mnist_x.npy')\n",
        "            self.mnist_y = np.load('datasets/mnist_y.npy')\n",
        "\n",
        "        print (\"+ Done.\")\n",
        "\n",
        "    def setup_mnistm(self, img_res):\n",
        "\n",
        "        print (\"Setting up MNIST-M...\")\n",
        "\n",
        "        if not os.path.exists('datasets/mnistm_x.npy'):\n",
        "\n",
        "            # Download the MNIST-M pkl file\n",
        "            filepath = 'datasets/keras_mnistm.pkl.gz'\n",
        "            if not os.path.exists(filepath.replace('.gz', '')):\n",
        "                print('+ Downloading ' + self.mnistm_url)\n",
        "                data = urllib.request.urlopen(self.mnistm_url)\n",
        "                with open(filepath, 'wb') as f:\n",
        "                    f.write(data.read())\n",
        "                with open(filepath.replace('.gz', ''), 'wb') as out_f, \\\n",
        "                        gzip.GzipFile(filepath) as zip_f:\n",
        "                    out_f.write(zip_f.read())\n",
        "                os.unlink(filepath)\n",
        "\n",
        "            # load MNIST-M images from pkl file\n",
        "            with open('datasets/keras_mnistm.pkl', \"rb\") as f:\n",
        "                data = pickle.load(f, encoding='bytes')\n",
        "\n",
        "            # Normalize and rescale images\n",
        "            mnistm_X = np.array(data[b'train'])\n",
        "            mnistm_X = self.normalize(mnistm_X)\n",
        "            mnistm_X = np.array([imresize(x, img_res) for x in mnistm_X])\n",
        "\n",
        "            self.mnistm_X, self.mnistm_y = mnistm_X, self.mnist_y.copy()\n",
        "\n",
        "            # Save formatted images\n",
        "            np.save('datasets/mnistm_x.npy', self.mnistm_X)\n",
        "            np.save('datasets/mnistm_y.npy', self.mnistm_y)\n",
        "        else:\n",
        "            self.mnistm_X = np.load('datasets/mnistm_x.npy')\n",
        "            self.mnistm_y = np.load('datasets/mnistm_y.npy')\n",
        "\n",
        "        print (\"+ Done.\")\n",
        "\n",
        "\n",
        "    def load_data(self, domain, batch_size=1):\n",
        "\n",
        "        X = self.mnist_X if domain == 'A' else self.mnistm_X\n",
        "        y = self.mnist_y if domain == 'A' else self.mnistm_y\n",
        "\n",
        "        idx = np.random.choice(list(range(len(X))), size=batch_size)\n",
        "\n",
        "        return X[idx], y[idx]"
      ],
      "execution_count": 0,
      "outputs": []
    },
    {
      "cell_type": "code",
      "metadata": {
        "id": "0J3ITMqQ5SAy",
        "colab_type": "code",
        "colab": {}
      },
      "source": [
        "\n",
        "class PixelDA():\n",
        "    def __init__(self):\n",
        "        # Input shape\n",
        "        self.img_rows = 32\n",
        "        self.img_cols = 32\n",
        "        self.channels = 3\n",
        "        self.img_shape = (self.img_rows, self.img_cols, self.channels)\n",
        "        self.num_classes = 10\n",
        "\n",
        "        # Configure MNIST and MNIST-M data loader\n",
        "        self.data_loader = DataLoader(img_res=(self.img_rows, self.img_cols))\n",
        "\n",
        "        # Loss weights\n",
        "        lambda_adv = 10\n",
        "        lambda_clf = 1\n",
        "\n",
        "        # Calculate output shape of D (PatchGAN)\n",
        "        patch = int(self.img_rows / 2**4)\n",
        "        self.disc_patch = (patch, patch, 1)\n",
        "\n",
        "        # Number of residual blocks in the generator\n",
        "        self.residual_blocks = 6\n",
        "\n",
        "        optimizer = Adam(0.0002, 0.5)\n",
        "\n",
        "        # Number of filters in first layer of discriminator and classifier\n",
        "        self.df = 64\n",
        "        self.cf = 64\n",
        "\n",
        "        # Build and compile the discriminators\n",
        "        self.discriminator = self.build_discriminator()\n",
        "        self.discriminator.compile(loss='mse',\n",
        "            optimizer=optimizer,\n",
        "            metrics=['accuracy'])\n",
        "\n",
        "        # Build the generator\n",
        "        self.generator = self.build_generator()\n",
        "\n",
        "        # Build the task (classification) network\n",
        "        self.clf = self.build_classifier()\n",
        "\n",
        "        # Input images from both domains\n",
        "        img_A = Input(shape=self.img_shape)\n",
        "        img_B = Input(shape=self.img_shape)\n",
        "\n",
        "        # Translate images from domain A to domain B\n",
        "        fake_B = self.generator(img_A)\n",
        "\n",
        "        # Classify the translated image\n",
        "        class_pred = self.clf(fake_B)\n",
        "\n",
        "        # For the combined model we will only train the generator and classifier\n",
        "        self.discriminator.trainable = False\n",
        "\n",
        "        # Discriminator determines validity of translated images\n",
        "        valid = self.discriminator(fake_B)\n",
        "\n",
        "        self.combined = Model(img_A, [valid, class_pred])\n",
        "        self.combined.compile(loss=['mse', 'categorical_crossentropy'],\n",
        "                                    loss_weights=[lambda_adv, lambda_clf],\n",
        "                                    optimizer=optimizer,\n",
        "                                    metrics=['accuracy'])\n"
      ],
      "execution_count": 0,
      "outputs": []
    },
    {
      "cell_type": "code",
      "metadata": {
        "id": "elSuM-vF6BQb",
        "colab_type": "code",
        "colab": {}
      },
      "source": [
        "def build_generator(self):\n",
        "    \"\"\"Resnet Generator\"\"\"\n",
        "\n",
        "    def residual_block(layer_input):\n",
        "        \"\"\"Residual block described in paper\"\"\"\n",
        "        d = Conv2D(64, kernel_size=3, strides=1, padding='same')(layer_input)\n",
        "        d = BatchNormalization(momentum=0.8)(d)\n",
        "        d = Activation('relu')(d)\n",
        "        d = Conv2D(64, kernel_size=3, strides=1, padding='same')(d)\n",
        "        d = BatchNormalization(momentum=0.8)(d)\n",
        "        d = Add()([d, layer_input])\n",
        "        return d\n",
        "\n",
        "    # Image input\n",
        "    img = Input(shape=self.img_shape)\n",
        "\n",
        "    l1 = Conv2D(64, kernel_size=3, padding='same', activation='relu')(img)\n",
        "\n",
        "    # Propogate signal through residual blocks\n",
        "    r = residual_block(l1)\n",
        "    for _ in range(self.residual_blocks - 1):\n",
        "        r = residual_block(r)\n",
        "\n",
        "    output_img = Conv2D(self.channels, kernel_size=3, padding='same', activation='tanh')(r)\n",
        "\n",
        "    return Model(img, output_img)\n",
        "\n"
      ],
      "execution_count": 0,
      "outputs": []
    },
    {
      "cell_type": "code",
      "metadata": {
        "id": "pSTrS5ca6Hfb",
        "colab_type": "code",
        "colab": {}
      },
      "source": [
        "\n",
        "def build_discriminator(self):\n",
        "\n",
        "    def d_layer(layer_input, filters, f_size=4, normalization=True):\n",
        "        \"\"\"Discriminator layer\"\"\"\n",
        "        d = Conv2D(filters, kernel_size=f_size, strides=2, padding='same')(layer_input)\n",
        "        d = LeakyReLU(alpha=0.2)(d)\n",
        "        if normalization:\n",
        "            d = InstanceNormalization()(d)\n",
        "        return d\n",
        "\n",
        "    img = Input(shape=self.img_shape)\n",
        "\n",
        "    d1 = d_layer(img, self.df, normalization=False)\n",
        "    d2 = d_layer(d1, self.df*2)\n",
        "    d3 = d_layer(d2, self.df*4)\n",
        "    d4 = d_layer(d3, self.df*8)\n",
        "\n",
        "    validity = Conv2D(1, kernel_size=4, strides=1, padding='same')(d4)\n",
        "\n",
        "    return Model(img, validity)\n"
      ],
      "execution_count": 0,
      "outputs": []
    },
    {
      "cell_type": "code",
      "metadata": {
        "id": "CFM3Z8FY-vZW",
        "colab_type": "code",
        "colab": {}
      },
      "source": [
        "\n",
        "def build_classifier(self):\n",
        "\n",
        "    def clf_layer(layer_input, filters, f_size=4, normalization=True):\n",
        "        \"\"\"Classifier layer\"\"\"\n",
        "        d = Conv2D(filters, kernel_size=f_size, strides=2, padding='same')(layer_input)\n",
        "        d = LeakyReLU(alpha=0.2)(d)\n",
        "        if normalization:\n",
        "            d = InstanceNormalization()(d)\n",
        "        return d\n",
        "\n",
        "    img = Input(shape=self.img_shape)\n",
        "\n",
        "    c1 = clf_layer(img, self.cf, normalization=False)\n",
        "    c2 = clf_layer(c1, self.cf*2)\n",
        "    c3 = clf_layer(c2, self.cf*4)\n",
        "    c4 = clf_layer(c3, self.cf*8)\n",
        "    c5 = clf_layer(c4, self.cf*8)\n",
        "\n",
        "    class_pred = Dense(self.num_classes, activation='softmax')(Flatten()(c5))\n",
        "\n",
        "    return Model(img, class_pred)\n"
      ],
      "execution_count": 0,
      "outputs": []
    },
    {
      "cell_type": "code",
      "metadata": {
        "id": "RE-Qtsee6JWq",
        "colab_type": "code",
        "colab": {}
      },
      "source": [
        "\n",
        "def train(self, epochs, batch_size=128, sample_interval=50):\n",
        "\n",
        "    half_batch = int(batch_size / 2)\n",
        "\n",
        "    # Classification accuracy on 100 last batches of domain B\n",
        "    test_accs = []\n",
        "\n",
        "    # Adversarial ground truths\n",
        "    valid = np.ones((batch_size, *self.disc_patch))\n",
        "    fake = np.zeros((batch_size, *self.disc_patch))\n",
        "\n",
        "    for epoch in range(epochs):\n",
        "\n",
        "        # ---------------------\n",
        "        #  Train Discriminator\n",
        "        # ---------------------\n",
        "\n",
        "        imgs_A, labels_A = self.data_loader.load_data(domain=\"A\", batch_size=batch_size)\n",
        "        imgs_B, labels_B = self.data_loader.load_data(domain=\"B\", batch_size=batch_size)\n",
        "\n",
        "        # Translate images from domain A to domain B\n",
        "        fake_B = self.generator.predict(imgs_A)\n",
        "\n",
        "        # Train the discriminators (original images = real / translated = Fake)\n",
        "        d_loss_real = self.discriminator.train_on_batch(imgs_B, valid)\n",
        "        d_loss_fake = self.discriminator.train_on_batch(fake_B, fake)\n",
        "        d_loss = 0.5 * np.add(d_loss_real, d_loss_fake)\n",
        "\n",
        "\n",
        "        # --------------------------------\n",
        "        #  Train Generator and Classifier\n",
        "        # --------------------------------\n",
        "\n",
        "        # One-hot encoding of labels\n",
        "        labels_A = to_categorical(labels_A, num_classes=self.num_classes)\n",
        "\n",
        "        # Train the generator and classifier\n",
        "        g_loss = self.combined.train_on_batch(imgs_A, [valid, labels_A])\n",
        "\n",
        "        #-----------------------\n",
        "        # Evaluation (domain B)\n",
        "        #-----------------------\n",
        "\n",
        "        pred_B = self.clf.predict(imgs_B)\n",
        "        test_acc = np.mean(np.argmax(pred_B, axis=1) == labels_B)\n",
        "\n",
        "        # Add accuracy to list of last 100 accuracy measurements\n",
        "        test_accs.append(test_acc)\n",
        "        if len(test_accs) > 100:\n",
        "            test_accs.pop(0)\n",
        "\n",
        "\n",
        "        # Plot the progress\n",
        "        print ( \"%d : [D - loss: %.5f, acc: %3d%%], [G - loss: %.5f], [clf - loss: %.5f, acc: %3d%%, test_acc: %3d%% (%3d%%)]\" % \\\n",
        "                                        (epoch, d_loss[0], 100*float(d_loss[1]),\n",
        "                                        g_loss[1], g_loss[2], 100*float(g_loss[-1]),\n",
        "                                        100*float(test_acc), 100*float(np.mean(test_accs))))\n",
        "\n",
        "\n",
        "        # If at save interval => save generated image samples\n",
        "        if epoch % sample_interval == 0:\n",
        "            self.sample_images(epoch)\n"
      ],
      "execution_count": 0,
      "outputs": []
    },
    {
      "cell_type": "code",
      "metadata": {
        "id": "maXznNT-6Kp8",
        "colab_type": "code",
        "colab": {}
      },
      "source": [
        "\n",
        "def sample_images(self, epoch):\n",
        "    r, c = 2, 5\n",
        "\n",
        "    imgs_A, _ = self.data_loader.load_data(domain=\"A\", batch_size=5)\n",
        "\n",
        "    # Translate images to the other domain\n",
        "    fake_B = self.generator.predict(imgs_A)\n",
        "\n",
        "    gen_imgs = np.concatenate([imgs_A, fake_B])\n",
        "\n",
        "    # Rescale images 0 - 1\n",
        "    gen_imgs = 0.5 * gen_imgs + 0.5\n",
        "\n",
        "    #titles = ['Original', 'Translated']\n",
        "    fig, axs = plt.subplots(r, c)\n",
        "    cnt = 0\n",
        "    for i in range(r):\n",
        "        for j in range(c):\n",
        "            axs[i,j].imshow(gen_imgs[cnt])\n",
        "            #axs[i, j].set_title(titles[i])\n",
        "            axs[i,j].axis('off')\n",
        "            cnt += 1\n",
        "    fig.savefig(\"images/%d.png\" % (epoch))\n",
        "    plt.close()\n"
      ],
      "execution_count": 0,
      "outputs": []
    },
    {
      "cell_type": "code",
      "metadata": {
        "id": "UbOe69ZJ6Lwr",
        "colab_type": "code",
        "colab": {}
      },
      "source": [
        "PixelDA.sample_images = sample_images\n",
        "PixelDA.train = train\n",
        "PixelDA.build_discriminator = build_discriminator\n",
        "PixelDA.build_generator = build_generator\n",
        "PixelDA.build_classifier = build_classifier\n",
        "\n",
        "gan = PixelDA()\n",
        "gan.train(epochs=30000, batch_size=32, sample_interval=500)"
      ],
      "execution_count": 0,
      "outputs": []
    },
    {
      "cell_type": "code",
      "metadata": {
        "id": "y3fc7NAkMIpQ",
        "colab_type": "code",
        "colab": {
          "base_uri": "https://localhost:8080/",
          "height": 521
        },
        "outputId": "b9906c74-dfeb-4f5f-f7fb-1e85924573a6"
      },
      "source": [
        "!ls images/*\n",
        "img = plt.imread(\"images/25000.png\")\n",
        "plt.imshow(img)"
      ],
      "execution_count": 3,
      "outputs": [
        {
          "output_type": "stream",
          "text": [
            "images/0.png\t  images/15500.png  images/22000.png  images/4000.png\n",
            "images/10000.png  images/16000.png  images/22500.png  images/4500.png\n",
            "images/1000.png   images/16500.png  images/23000.png  images/5000.png\n",
            "images/10500.png  images/17000.png  images/23500.png  images/500.png\n",
            "images/11000.png  images/17500.png  images/24000.png  images/5500.png\n",
            "images/11500.png  images/18000.png  images/24500.png  images/6000.png\n",
            "images/12000.png  images/18500.png  images/25000.png  images/6500.png\n",
            "images/12500.png  images/19000.png  images/2500.png   images/7000.png\n",
            "images/13000.png  images/19500.png  images/25500.png  images/7500.png\n",
            "images/13500.png  images/20000.png  images/26000.png  images/8000.png\n",
            "images/14000.png  images/2000.png   images/26500.png  images/8500.png\n",
            "images/14500.png  images/20500.png  images/27000.png  images/9000.png\n",
            "images/15000.png  images/21000.png  images/3000.png   images/9500.png\n",
            "images/1500.png   images/21500.png  images/3500.png\n"
          ],
          "name": "stdout"
        },
        {
          "output_type": "execute_result",
          "data": {
            "text/plain": [
              "<matplotlib.image.AxesImage at 0x7f98a33c6eb8>"
            ]
          },
          "metadata": {
            "tags": []
          },
          "execution_count": 3
        },
        {
          "output_type": "display_data",
          "data": {
            "image/png": "[encoded data removed]",
            "text/plain": [
              "<Figure size 432x288 with 1 Axes>"
            ]
          },
          "metadata": {
            "tags": []
          }
        }
      ]
    }
  ]
}