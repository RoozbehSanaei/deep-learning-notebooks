{
  "nbformat": 4,
  "nbformat_minor": 0,
  "metadata": {
    "colab": {
      "name": "ccgan.ipynb",
      "provenance": [],
      "authorship_tag": "ABX9TyOILZZcgkiDRL4ss9WxHgTx",
      "include_colab_link": true
    },
    "kernelspec": {
      "name": "python3",
      "display_name": "Python 3"
    }
  },
  "cells": [
    {
      "cell_type": "markdown",
      "metadata": {
        "id": "view-in-github",
        "colab_type": "text"
      },
      "source": [
        "<a href=\"https://colab.research.google.com/github/RoozbehSanaei/deep-learning-notebooks/blob/master/ccgan.ipynb\" target=\"_parent\"><img src=\"https://colab.research.google.com/assets/colab-badge.svg\" alt=\"Open In Colab\"/></a>"
      ]
    },
    {
      "cell_type": "markdown",
      "metadata": {
        "id": "laT8p38gs62u",
        "colab_type": "text"
      },
      "source": [
        "**[Semi-Supervised Learning with Context-Conditional Generative Adversarial Networks](https://openreview.net/forum?id=BJ--gPcxl)**"
      ]
    },
    {
      "cell_type": "code",
      "metadata": {
        "id": "EDvI33VTlR7_",
        "colab_type": "code",
        "colab": {}
      },
      "source": [
        "Learn more or give us feedback\n",
        "from __future__ import print_function, division\n",
        "\n",
        "from keras.datasets import mnist\n",
        "from keras_contrib.layers.normalization.instancenormalization import InstanceNormalization\n",
        "from keras.layers import Input, Dense, Reshape, Flatten, Dropout, multiply, GaussianNoise\n",
        "from keras.layers import BatchNormalization, Activation, Embedding, ZeroPadding2D\n",
        "from keras.layers import Concatenate\n",
        "from keras.layers.advanced_activations import LeakyReLU\n",
        "from keras.layers.convolutional import UpSampling2D, Conv2D\n",
        "from keras.models import Sequential, Model\n",
        "from keras.optimizers import Adam\n",
        "from keras import losses\n",
        "from keras.utils import to_categorical\n",
        "import keras.backend as K\n",
        "import scipy\n",
        "\n",
        "import matplotlib.pyplot as plt\n",
        "\n",
        "import numpy as np"
      ],
      "execution_count": 0,
      "outputs": []
    },
    {
      "cell_type": "code",
      "metadata": {
        "id": "ugwv3gjBlXEj",
        "colab_type": "code",
        "colab": {}
      },
      "source": [
        "class CCGAN():\n",
        "    def __init__(self):\n",
        "        self.img_rows = 32\n",
        "        self.img_cols = 32\n",
        "        self.channels = 1\n",
        "        self.img_shape = (self.img_rows, self.img_cols, self.channels)\n",
        "        self.mask_height = 10\n",
        "        self.mask_width = 10\n",
        "        self.num_classes = 10\n",
        "\n",
        "        # Number of filters in first layer of generator and discriminator\n",
        "        self.gf = 32\n",
        "        self.df = 32\n",
        "\n",
        "        optimizer = Adam(0.0002, 0.5)\n",
        "\n",
        "        # Build and compile the discriminator\n",
        "        self.discriminator = self.build_discriminator()\n",
        "        self.discriminator.compile(loss=['mse', 'categorical_crossentropy'],\n",
        "            loss_weights=[0.5, 0.5],\n",
        "            optimizer=optimizer,\n",
        "            metrics=['accuracy'])\n",
        "\n",
        "        # Build the generator\n",
        "        self.generator = self.build_generator()\n",
        "\n",
        "        # The generator takes noise as input and generates imgs\n",
        "        masked_img = Input(shape=self.img_shape)\n",
        "        gen_img = self.generator(masked_img)\n",
        "\n",
        "        # For the combined model we will only train the generator\n",
        "        self.discriminator.trainable = False\n",
        "\n",
        "        # The valid takes generated images as input and determines validity\n",
        "        valid, _ = self.discriminator(gen_img)\n",
        "\n",
        "        # The combined model  (stacked generator and discriminator)\n",
        "        # Trains the generator to fool the discriminator\n",
        "        self.combined = Model(masked_img , valid)\n",
        "        self.combined.compile(loss=['mse'],\n",
        "            optimizer=optimizer)"
      ],
      "execution_count": 0,
      "outputs": []
    },
    {
      "cell_type": "code",
      "metadata": {
        "id": "6OmPwlFVlb0e",
        "colab_type": "code",
        "colab": {}
      },
      "source": [
        "def build_generator(self):\n",
        "    \"\"\"U-Net Generator\"\"\"\n",
        "\n",
        "    def conv2d(layer_input, filters, f_size=4, bn=True):\n",
        "        \"\"\"Layers used during downsampling\"\"\"\n",
        "        d = Conv2D(filters, kernel_size=f_size, strides=2, padding='same')(layer_input)\n",
        "        d = LeakyReLU(alpha=0.2)(d)\n",
        "        if bn:\n",
        "            d = BatchNormalization(momentum=0.8)(d)\n",
        "        return d\n",
        "\n",
        "    def deconv2d(layer_input, skip_input, filters, f_size=4, dropout_rate=0):\n",
        "        \"\"\"Layers used during upsampling\"\"\"\n",
        "        u = UpSampling2D(size=2)(layer_input)\n",
        "        u = Conv2D(filters, kernel_size=f_size, strides=1, padding='same', activation='relu')(u)\n",
        "        if dropout_rate:\n",
        "            u = Dropout(dropout_rate)(u)\n",
        "        u = BatchNormalization(momentum=0.8)(u)\n",
        "        u = Concatenate()([u, skip_input])\n",
        "        return u\n",
        "\n",
        "    img = Input(shape=self.img_shape)\n",
        "\n",
        "    # Downsampling\n",
        "    d1 = conv2d(img, self.gf, bn=False)\n",
        "    d2 = conv2d(d1, self.gf*2)\n",
        "    d3 = conv2d(d2, self.gf*4)\n",
        "    d4 = conv2d(d3, self.gf*8)\n",
        "\n",
        "    # Upsampling\n",
        "    u1 = deconv2d(d4, d3, self.gf*4)\n",
        "    u2 = deconv2d(u1, d2, self.gf*2)\n",
        "    u3 = deconv2d(u2, d1, self.gf)\n",
        "\n",
        "    u4 = UpSampling2D(size=2)(u3)\n",
        "    output_img = Conv2D(self.channels, kernel_size=4, strides=1, padding='same', activation='tanh')(u4)\n",
        "\n",
        "    return Model(img, output_img)"
      ],
      "execution_count": 0,
      "outputs": []
    },
    {
      "cell_type": "code",
      "metadata": {
        "id": "uuO1TvMWli_0",
        "colab_type": "code",
        "colab": {}
      },
      "source": [
        "\n",
        "def build_discriminator(self):\n",
        "\n",
        "    img = Input(shape=self.img_shape)\n",
        "\n",
        "    model = Sequential()\n",
        "    model.add(Conv2D(64, kernel_size=4, strides=2, padding='same', input_shape=self.img_shape))\n",
        "    model.add(LeakyReLU(alpha=0.8))\n",
        "    model.add(Conv2D(128, kernel_size=4, strides=2, padding='same'))\n",
        "    model.add(LeakyReLU(alpha=0.2))\n",
        "    model.add(InstanceNormalization())\n",
        "    model.add(Conv2D(256, kernel_size=4, strides=2, padding='same'))\n",
        "    model.add(LeakyReLU(alpha=0.2))\n",
        "    model.add(InstanceNormalization())\n",
        "\n",
        "    model.summary()\n",
        "\n",
        "    img = Input(shape=self.img_shape)\n",
        "    features = model(img)\n",
        "\n",
        "    validity = Conv2D(1, kernel_size=4, strides=1, padding='same')(features)\n",
        "\n",
        "    label = Flatten()(features)\n",
        "    label = Dense(self.num_classes+1, activation=\"softmax\")(label)\n",
        "\n",
        "    return Model(img, [validity, label])"
      ],
      "execution_count": 0,
      "outputs": []
    },
    {
      "cell_type": "code",
      "metadata": {
        "id": "9AfWpXdQrGq7",
        "colab_type": "code",
        "colab": {}
      },
      "source": [
        "\n",
        "def mask_randomly(self, imgs):\n",
        "    y1 = np.random.randint(0, self.img_rows - self.mask_height, imgs.shape[0])\n",
        "    y2 = y1 + self.mask_height\n",
        "    x1 = np.random.randint(0, self.img_rows - self.mask_width, imgs.shape[0])\n",
        "    x2 = x1 + self.mask_width\n",
        "\n",
        "    masked_imgs = np.empty_like(imgs)\n",
        "    for i, img in enumerate(imgs):\n",
        "        masked_img = img.copy()\n",
        "        _y1, _y2, _x1, _x2 = y1[i], y2[i], x1[i], x2[i],\n",
        "        masked_img[_y1:_y2, _x1:_x2, :] = 0\n",
        "        masked_imgs[i] = masked_img\n",
        "\n",
        "    return masked_imgs\n"
      ],
      "execution_count": 0,
      "outputs": []
    },
    {
      "cell_type": "code",
      "metadata": {
        "id": "zpZk_h36rLLD",
        "colab_type": "code",
        "colab": {}
      },
      "source": [
        "\n",
        "def train(self, epochs, batch_size=128, sample_interval=50):\n",
        "\n",
        "    # Load the dataset\n",
        "    (X_train, y_train), (_, _) = mnist.load_data()\n",
        "\n",
        "    # Rescale MNIST to 32x32\n",
        "    X_train = np.array([scipy.misc.imresize(x, [self.img_rows, self.img_cols]) for x in X_train])\n",
        "\n",
        "    # Rescale -1 to 1\n",
        "    X_train = (X_train.astype(np.float32) - 127.5) / 127.5\n",
        "    X_train = np.expand_dims(X_train, axis=3)\n",
        "    y_train = y_train.reshape(-1, 1)\n",
        "\n",
        "    # Adversarial ground truths\n",
        "    valid = np.ones((batch_size, 4, 4, 1))\n",
        "    fake = np.zeros((batch_size, 4, 4, 1))\n",
        "\n",
        "    for epoch in range(epochs):\n",
        "\n",
        "        # ---------------------\n",
        "        #  Train Discriminator\n",
        "        # ---------------------\n",
        "\n",
        "        # Sample half batch of images\n",
        "        idx = np.random.randint(0, X_train.shape[0], batch_size)\n",
        "        imgs = X_train[idx]\n",
        "        labels = y_train[idx]\n",
        "\n",
        "        masked_imgs = self.mask_randomly(imgs)\n",
        "\n",
        "        # Generate a half batch of new images\n",
        "        gen_imgs = self.generator.predict(masked_imgs)\n",
        "\n",
        "        # One-hot encoding of labels\n",
        "        labels = to_categorical(labels, num_classes=self.num_classes+1)\n",
        "        fake_labels = to_categorical(np.full((batch_size, 1), self.num_classes), num_classes=self.num_classes+1)\n",
        "\n",
        "        # Train the discriminator\n",
        "        d_loss_real = self.discriminator.train_on_batch(imgs, [valid, labels])\n",
        "        d_loss_fake = self.discriminator.train_on_batch(gen_imgs, [fake, fake_labels])\n",
        "        d_loss = 0.5 * np.add(d_loss_real, d_loss_fake)\n",
        "\n",
        "        # ---------------------\n",
        "        #  Train Generator\n",
        "        # ---------------------\n",
        "\n",
        "        # Train the generator\n",
        "        g_loss = self.combined.train_on_batch(masked_imgs, valid)\n",
        "\n",
        "        # Plot the progress\n",
        "        print (\"%d [D loss: %f, op_acc: %.2f%%] [G loss: %f]\" % (epoch, d_loss[0], 100*d_loss[4], g_loss))\n",
        "\n",
        "        # If at save interval => save generated image samples\n",
        "        if epoch % sample_interval == 0:\n",
        "            # Select a random half batch of images\n",
        "            idx = np.random.randint(0, X_train.shape[0], 6)\n",
        "            imgs = X_train[idx]\n",
        "            self.sample_images(epoch, imgs)\n",
        "            self.save_model()\n"
      ],
      "execution_count": 0,
      "outputs": []
    },
    {
      "cell_type": "code",
      "metadata": {
        "id": "EokuVku-rMnX",
        "colab_type": "code",
        "colab": {}
      },
      "source": [
        "\n",
        "def sample_images(self, epoch, imgs):\n",
        "    r, c = 3, 6\n",
        "\n",
        "    masked_imgs = self.mask_randomly(imgs)\n",
        "    gen_imgs = self.generator.predict(masked_imgs)\n",
        "\n",
        "    imgs = (imgs + 1.0) * 0.5\n",
        "    masked_imgs = (masked_imgs + 1.0) * 0.5\n",
        "    gen_imgs = (gen_imgs + 1.0) * 0.5\n",
        "\n",
        "    gen_imgs = np.where(gen_imgs < 0, 0, gen_imgs)\n",
        "\n",
        "    fig, axs = plt.subplots(r, c)\n",
        "    for i in range(c):\n",
        "        axs[0,i].imshow(imgs[i, :, :, 0], cmap='gray')\n",
        "        axs[0,i].axis('off')\n",
        "        axs[1,i].imshow(masked_imgs[i, :, :, 0], cmap='gray')\n",
        "        axs[1,i].axis('off')\n",
        "        axs[2,i].imshow(gen_imgs[i, :, :, 0], cmap='gray')\n",
        "        axs[2,i].axis('off')\n",
        "    fig.savefig(\"images/%d.png\" % epoch)\n",
        "    plt.close()\n"
      ],
      "execution_count": 0,
      "outputs": []
    },
    {
      "cell_type": "code",
      "metadata": {
        "id": "mzv3_2OJrOIg",
        "colab_type": "code",
        "colab": {}
      },
      "source": [
        "\n",
        "def save_model(self):\n",
        "\n",
        "    def save(model, model_name):\n",
        "        model_path = \"saved_model/%s.json\" % model_name\n",
        "        weights_path = \"saved_model/%s_weights.hdf5\" % model_name\n",
        "        options = {\"file_arch\": model_path,\n",
        "                    \"file_weight\": weights_path}\n",
        "        json_string = model.to_json()\n",
        "        open(options['file_arch'], 'w').write(json_string)\n",
        "        model.save_weights(options['file_weight'])\n",
        "\n",
        "    save(self.generator, \"ccgan_generator\")\n",
        "    save(self.discriminator, \"ccgan_discriminator\")\n"
      ],
      "execution_count": 0,
      "outputs": []
    },
    {
      "cell_type": "code",
      "metadata": {
        "id": "iS7-A8kirPG6",
        "colab_type": "code",
        "colab": {}
      },
      "source": [
        "\n",
        "ccgan = CCGAN()\n",
        "ccgan.train(epochs=20000, batch_size=32, sample_interval=200"
      ],
      "execution_count": 0,
      "outputs": []
    }
  ]
}